{
 "cells": [
  {
   "cell_type": "markdown",
   "metadata": {
    "id": "sysidismOwyq"
   },
   "source": [
    "# FIT5202 Assignment 2A : Building models to predict future eCommerce sales\n",
    "\n",
    "## Table of Contents\n",
    "*  \n",
    "    * [Part 1 : Data Loading, Transformation and Exploration](#part-1)\n",
    "    * [Part 2 : Feature extraction and ML training](#part-2)\n",
    "    * [Part 3 : Customer Segmentation and Knowledge sharing with K-Mean](#part-3)\n",
    "    * [Part 4 : Data Ethics, Privacy, and Security](#part-4)\n",
    "\n",
    "Please add code/markdown cells as you need."
   ]
  },
  {
   "cell_type": "markdown",
   "metadata": {
    "id": "uMDP_IyZOwyu"
   },
   "source": [
    "# Part 1: Data Loading, Transformation and Exploration <a class=\"anchor\" name=\"part-1\"></a>\n",
    "## 1.1 Data Loading\n",
    "In this section, you will need to load the given datasets into PySpark DataFrames and use DataFrame functions to process the data. Usage of Spark SQL is discouraged, and your can only use pandas to format results. For plotting, different visualisation packages can be used, but please ensure that you have included instructions to install the additional packages and the installation will be successful in the provided docker container(in case your marker needs to clear the notebook and rerun it).\n",
    "\n",
    "### 1.1.1 Data Loading <a class=\"anchor\" name=\"1.1\"></a>\n",
    "Write the code to create a SparkSession. For creating the SparkSession, you need to use a SparkConf object to configure the Spark app with a proper application name, to ensure the maximum partition size not exceed 20MB, and to run locally with all CPU cores on your machine (note: if you have insufficient RAM, reducing the number of cores is also acceptable.)"
   ]
  },
  {
   "cell_type": "code",
   "execution_count": 1,
   "metadata": {
    "id": "FXZjuYdLOwyw"
   },
   "outputs": [],
   "source": [
    "from pyspark.sql import SparkSession\n",
    "from pyspark import SparkConf\n",
    "from pyspark import SparkContext\n",
    "\n",
    "spark_conf = SparkConf().setAppName(\"Assignmnment2\").set(\"spark.sql.files.maxPartitionBytes\", \"20m\").setMaster(\"local[4]\")\n",
    "\n",
    "spark = SparkSession.builder.config(conf=spark_conf).getOrCreate()"
   ]
  },
  {
   "cell_type": "markdown",
   "metadata": {
    "id": "thJahRqlOwyx"
   },
   "source": [
    "1.1.2 Write code to define the schemas for category, customer, product, clickstream and transaction datasets, following the data types suggested in the metadata file."
   ]
  },
  {
   "cell_type": "code",
   "execution_count": 2,
   "metadata": {
    "id": "5H32N84klxyq"
   },
   "outputs": [],
   "source": [
    "from pyspark.sql.types import StructType, StructField, StringType, IntegerType, FloatType, TimestampType\n",
    "\n",
    "category_schema = StructType([\n",
    "    StructField(\"del\", StringType(), True),\n",
    "    StructField(\"category_id\", IntegerType(), True),\n",
    "    StructField(\"cat_level1\", StringType(), True),\n",
    "    StructField(\"cat_level2\", StringType(), True),\n",
    "    StructField(\"cat_level3\", StringType(), True)\n",
    "])\n",
    "\n",
    "customer_schema = StructType([\n",
    "    StructField(\"del\", StringType(), True),\n",
    "    StructField(\"customer_id\", StringType(), True),\n",
    "    StructField(\"first_name\", StringType(), True),\n",
    "    StructField(\"last_name\", StringType(), True),\n",
    "    StructField(\"username\", StringType(), True),\n",
    "    StructField(\"email\", StringType(), True),\n",
    "    StructField(\"gender\", StringType(), True),\n",
    "    StructField(\"birthdate\", StringType(), True), \n",
    "    StructField(\"device_type\", StringType(), True),\n",
    "    StructField(\"device_id\", StringType(), True),\n",
    "    StructField(\"device_version\", StringType(), True),\n",
    "    StructField(\"home_location_lat\", FloatType(), True),\n",
    "    StructField(\"home_location_long\", FloatType(), True),\n",
    "    StructField(\"home_location\", StringType(), True),\n",
    "    StructField(\"home_country\", StringType(), True),\n",
    "    StructField(\"first_join_date\", StringType(), True)\n",
    "])\n",
    "\n",
    "product_schema = StructType([\n",
    "    StructField(\"del\", StringType(), True),\n",
    "    StructField(\"id\", IntegerType(), True),\n",
    "    StructField(\"gender\", StringType(), True),\n",
    "    StructField(\"baseColour\", StringType(), True),\n",
    "    StructField(\"season\", StringType(), True),\n",
    "    StructField(\"year\", IntegerType(), True),\n",
    "    StructField(\"usage\", StringType(), True),\n",
    "    StructField(\"productDisplayName\", StringType(), True),\n",
    "    StructField(\"category_id\", IntegerType(), True)\n",
    "])\n",
    "\n",
    "click_stream_schema = StructType([\n",
    "    StructField(\"del\", StringType(), True),\n",
    "    StructField(\"session_id\", StringType(), True),\n",
    "    StructField(\"event_name\", StringType(), True),\n",
    "    StructField(\"event_time\", TimestampType(), True),\n",
    "    StructField(\"event_id\", StringType(), True),\n",
    "    StructField(\"traffic_source\", StringType(), True),\n",
    "    StructField(\"event_metadata\", StringType(), True)\n",
    "])\n",
    "\n",
    "transaction_schema = StructType([\n",
    "    StructField(\"del\", StringType(), True),\n",
    "    StructField(\"created_at\", StringType(), True),\n",
    "    StructField(\"customer_id\", StringType(), True),\n",
    "    StructField(\"booking_id\", StringType(), True),\n",
    "    StructField(\"session_id\", StringType(), True),\n",
    "    StructField(\"product_metadata\", StringType(), True),\n",
    "    StructField(\"payment_method\", StringType(), True),\n",
    "    StructField(\"payment_status\", StringType(), True),\n",
    "    StructField(\"promo_amount\", FloatType(), True),\n",
    "    StructField(\"promo_code\", StringType(), True),\n",
    "    StructField(\"shipment_fee\", FloatType(), True),\n",
    "    StructField(\"shipment_date_limit\", StringType(), True),\n",
    "    StructField(\"shipment_location_lat\", FloatType(), True),\n",
    "    StructField(\"shipment_location_long\", FloatType(), True),\n",
    "    StructField(\"total_amount\", FloatType(), True)\n",
    "])\n",
    "\n",
    "\n"
   ]
  },
  {
   "cell_type": "markdown",
   "metadata": {
    "id": "NyfLKtz0Owyy"
   },
   "source": [
    "1.1.3 Using predefined schema, write code to load the csv files into separate dataframes. Print the schemas of all dataframes."
   ]
  },
  {
   "cell_type": "code",
   "execution_count": 3,
   "metadata": {
    "id": "e_yg-utQqYzh"
   },
   "outputs": [],
   "source": [
    "category_df = spark.read.csv(\"category.csv\", header=True, schema=category_schema)\n",
    "customer_df = spark.read.csv(\"customer.csv\", header=True, schema=customer_schema)\n",
    "product_df = spark.read.csv(\"product.csv\", header=True, schema=product_schema)\n",
    "click_stream_df = spark.read.csv(\"click_stream.csv\", header=True, schema=click_stream_schema)\n",
    "transaction_df = spark.read.csv(\"new_transactions.csv\", header=True, schema=transaction_schema)"
   ]
  },
  {
   "cell_type": "code",
   "execution_count": 4,
   "metadata": {
    "id": "fOTZgT4LOwyz"
   },
   "outputs": [],
   "source": [
    "category_df = category_df.drop(\"del\")\n",
    "customer_df = customer_df.drop(\"del\")\n",
    "product_df = product_df.drop(\"del\")\n",
    "click_stream_df = click_stream_df.drop(\"del\")\n",
    "transaction_df = transaction_df.drop(\"del\")"
   ]
  },
  {
   "cell_type": "code",
   "execution_count": 5,
   "metadata": {
    "colab": {
     "base_uri": "https://localhost:8080/"
    },
    "id": "hUDwAFuiql6m",
    "outputId": "f7d89fa8-a6ba-4e43-9db7-e8c865659d8e"
   },
   "outputs": [
    {
     "name": "stdout",
     "output_type": "stream",
     "text": [
      "root\n",
      " |-- category_id: integer (nullable = true)\n",
      " |-- cat_level1: string (nullable = true)\n",
      " |-- cat_level2: string (nullable = true)\n",
      " |-- cat_level3: string (nullable = true)\n",
      "\n",
      "root\n",
      " |-- customer_id: string (nullable = true)\n",
      " |-- first_name: string (nullable = true)\n",
      " |-- last_name: string (nullable = true)\n",
      " |-- username: string (nullable = true)\n",
      " |-- email: string (nullable = true)\n",
      " |-- gender: string (nullable = true)\n",
      " |-- birthdate: string (nullable = true)\n",
      " |-- device_type: string (nullable = true)\n",
      " |-- device_id: string (nullable = true)\n",
      " |-- device_version: string (nullable = true)\n",
      " |-- home_location_lat: float (nullable = true)\n",
      " |-- home_location_long: float (nullable = true)\n",
      " |-- home_location: string (nullable = true)\n",
      " |-- home_country: string (nullable = true)\n",
      " |-- first_join_date: string (nullable = true)\n",
      "\n",
      "root\n",
      " |-- id: integer (nullable = true)\n",
      " |-- gender: string (nullable = true)\n",
      " |-- baseColour: string (nullable = true)\n",
      " |-- season: string (nullable = true)\n",
      " |-- year: integer (nullable = true)\n",
      " |-- usage: string (nullable = true)\n",
      " |-- productDisplayName: string (nullable = true)\n",
      " |-- category_id: integer (nullable = true)\n",
      "\n",
      "root\n",
      " |-- session_id: string (nullable = true)\n",
      " |-- event_name: string (nullable = true)\n",
      " |-- event_time: timestamp (nullable = true)\n",
      " |-- event_id: string (nullable = true)\n",
      " |-- traffic_source: string (nullable = true)\n",
      " |-- event_metadata: string (nullable = true)\n",
      "\n",
      "root\n",
      " |-- created_at: string (nullable = true)\n",
      " |-- customer_id: string (nullable = true)\n",
      " |-- booking_id: string (nullable = true)\n",
      " |-- session_id: string (nullable = true)\n",
      " |-- product_metadata: string (nullable = true)\n",
      " |-- payment_method: string (nullable = true)\n",
      " |-- payment_status: string (nullable = true)\n",
      " |-- promo_amount: float (nullable = true)\n",
      " |-- promo_code: string (nullable = true)\n",
      " |-- shipment_fee: float (nullable = true)\n",
      " |-- shipment_date_limit: string (nullable = true)\n",
      " |-- shipment_location_lat: float (nullable = true)\n",
      " |-- shipment_location_long: float (nullable = true)\n",
      " |-- total_amount: float (nullable = true)\n",
      "\n"
     ]
    }
   ],
   "source": [
    "category_df.printSchema()\n",
    "customer_df.printSchema()\n",
    "product_df.printSchema()\n",
    "click_stream_df.printSchema()\n",
    "transaction_df.printSchema()"
   ]
  },
  {
   "cell_type": "markdown",
   "metadata": {
    "id": "dwjV_fjbOwyz"
   },
   "source": [
    "### 1.2 Data Transformation to Create Features <a class=\"anchor\" name=\"1.2\"></a>\n",
    "In the clickstream dataset, there are 9 types of events:  \n",
    "VIEW_PROMO, SCROLL, ADD_PROMO, VIEW_ITEM, CLICK, PURCHASE, ADD_TO_CART, HOMEPAGE, SEARCH  \n",
    "We categorize them into 3 different categories:  \n",
    "Category 1(high value actions - highly likely to purchase): ADD_PROMO, ADD_TO_CART  \n",
    "Category 2(medium value actions - likely to purchase): VIEW_PROMO, VIEW_ITEM, SEARCH  \n",
    "Category 3(low value actions - just browsing):  SCROLL, HOMEPAGE, CLICK  \n",
    "Perform the following tasks base on the clickstream dataframe and create a new dataframe.  "
   ]
  },
  {
   "cell_type": "markdown",
   "metadata": {
    "id": "F7sh4xaSOwy1"
   },
   "source": [
    "1.2.1 For each unique session_id, count the number of actions in each category and create 3 columns(num_cat_highvalue, num_cat_midvalue, num_cat_lowvalue)."
   ]
  },
  {
   "cell_type": "code",
   "execution_count": 6,
   "metadata": {
    "colab": {
     "base_uri": "https://localhost:8080/"
    },
    "id": "KYpS1VCt6sez",
    "outputId": "1bca1a35-ac32-431d-8306-693cb7fc96f6"
   },
   "outputs": [
    {
     "name": "stdout",
     "output_type": "stream",
     "text": [
      "+------------------------------------+-----------+--------------------------+------------------------------------+--------------+----------------------------------------------------------+\n",
      "|session_id                          |event_name |event_time                |event_id                            |traffic_source|event_metadata                                            |\n",
      "+------------------------------------+-----------+--------------------------+------------------------------------+--------------+----------------------------------------------------------+\n",
      "|fb0abf9e-fd1a-44dd-b5c0-2834d5a4b81c|HOMEPAGE   |2019-09-06 15:54:32.821085|9c4388c4-c95b-4678-b5ca-e9cbc0734109|MOBILE        |null                                                      |\n",
      "|fb0abf9e-fd1a-44dd-b5c0-2834d5a4b81c|SCROLL     |2019-09-06 16:03:57.821085|4690e1f5-3f99-42d3-84a5-22c4c4d8500a|MOBILE        |null                                                      |\n",
      "|7d440441-e67a-4d36-b324-80ffd636d166|HOMEPAGE   |2019-09-01 12:05:10.322763|88aeaeb5-ec98-4859-852c-8abb483faf31|MOBILE        |null                                                      |\n",
      "|7d440441-e67a-4d36-b324-80ffd636d166|ADD_TO_CART|2019-09-01 12:06:33.322763|934e306e-ecc6-472f-9ccb-12c8536910a2|MOBILE        |{'product_id': 15315, 'quantity': 4, 'item_price': 313529}|\n",
      "|7d440441-e67a-4d36-b324-80ffd636d166|SEARCH     |2019-09-01 12:07:00.322763|c952142b-4fe9-4694-ad7f-21a5d1bed9ca|MOBILE        |{'search_keywords': 'Dress Kondangan'}                    |\n",
      "|7d440441-e67a-4d36-b324-80ffd636d166|HOMEPAGE   |2019-09-01 12:08:27.322763|365b3840-9647-4bf5-917f-f0bec3d05332|MOBILE        |null                                                      |\n",
      "|7d440441-e67a-4d36-b324-80ffd636d166|SCROLL     |2019-09-01 12:11:06.322763|f7246095-b094-46c1-b2ac-bcfd080146c3|MOBILE        |null                                                      |\n",
      "|f7b5cd60-4f87-4b3c-8bde-c7da8930eec2|HOMEPAGE   |2019-09-09 04:49:02.425431|177faf86-4afe-4214-91f5-dde253b7984d|MOBILE        |null                                                      |\n",
      "|f7b5cd60-4f87-4b3c-8bde-c7da8930eec2|ADD_TO_CART|2019-09-09 05:06:03.425431|c1b42157-39a7-4521-a4dc-ed0200de301a|MOBILE        |{'product_id': 6133, 'quantity': 2, 'item_price': 249443} |\n",
      "|f7b5cd60-4f87-4b3c-8bde-c7da8930eec2|ADD_TO_CART|2019-09-09 05:23:36.425431|61cbe834-c585-406e-8eac-30f671e51fbb|MOBILE        |{'product_id': 6721, 'quantity': 1, 'item_price': 134504} |\n",
      "|f7b5cd60-4f87-4b3c-8bde-c7da8930eec2|ADD_TO_CART|2019-09-09 05:42:03.425431|2bd3f01a-e062-4c13-8b9d-598fb5379ed2|MOBILE        |{'product_id': 57622, 'quantity': 1, 'item_price': 384716}|\n",
      "|f7b5cd60-4f87-4b3c-8bde-c7da8930eec2|ADD_TO_CART|2019-09-09 05:58:58.425431|ba1c5f20-869a-42be-878c-75496c28aba3|MOBILE        |{'product_id': 5490, 'quantity': 1, 'item_price': 121318} |\n",
      "|f7b5cd60-4f87-4b3c-8bde-c7da8930eec2|ADD_TO_CART|2019-09-09 06:16:07.425431|b72d14a0-15d4-4099-89ce-76aba204538f|MOBILE        |{'product_id': 21304, 'quantity': 1, 'item_price': 209086}|\n",
      "|f7b5cd60-4f87-4b3c-8bde-c7da8930eec2|ADD_TO_CART|2019-09-09 06:32:41.425431|29d5034a-c2ba-4e2f-abdd-3b4a81dbda78|MOBILE        |{'product_id': 12106, 'quantity': 1, 'item_price': 184033}|\n",
      "|f7b5cd60-4f87-4b3c-8bde-c7da8930eec2|ADD_TO_CART|2019-09-09 06:49:47.425431|5cf07ed1-a2f7-4918-b639-a101d6eac14e|MOBILE        |{'product_id': 59647, 'quantity': 1, 'item_price': 311267}|\n",
      "|f7b5cd60-4f87-4b3c-8bde-c7da8930eec2|ADD_TO_CART|2019-09-09 07:05:44.425431|107cc669-e607-4478-9ee8-e7619a68a7c5|MOBILE        |{'product_id': 24105, 'quantity': 1, 'item_price': 216070}|\n",
      "|f7b5cd60-4f87-4b3c-8bde-c7da8930eec2|ADD_PROMO  |2019-09-09 07:22:05.425431|28329764-aa29-4e7a-9d8e-eee88d00a640|MOBILE        |{'promo_code': 'AZ2022', 'promo_amount': 7047}            |\n",
      "|f7b5cd60-4f87-4b3c-8bde-c7da8930eec2|SEARCH     |2019-09-09 05:06:26.425431|65ad97d0-9207-447e-b09d-fcc00a569824|MOBILE        |{'search_keywords': 'Tas Wanita'}                         |\n",
      "|f7b5cd60-4f87-4b3c-8bde-c7da8930eec2|SCROLL     |2019-09-09 05:23:34.425431|cbac06fc-d8f7-44af-a3c1-7c52acd06f3a|MOBILE        |null                                                      |\n",
      "|f7b5cd60-4f87-4b3c-8bde-c7da8930eec2|HOMEPAGE   |2019-09-09 05:41:03.425431|5f1de882-d789-453f-acb2-a53e84466bf8|MOBILE        |null                                                      |\n",
      "+------------------------------------+-----------+--------------------------+------------------------------------+--------------+----------------------------------------------------------+\n",
      "only showing top 20 rows\n",
      "\n"
     ]
    }
   ],
   "source": [
    "click_stream_df.show(truncate=False)"
   ]
  },
  {
   "cell_type": "code",
   "execution_count": 7,
   "metadata": {
    "id": "fxETLeNQOwy4"
   },
   "outputs": [],
   "source": [
    "from pyspark.sql.functions import when, col, month\n",
    "\n",
    "category_conditions = {\n",
    "    \"add_promo\": (col(\"event_name\") == \"ADD_PROMO\"),\n",
    "    \"num_cat_highvalue\": (col(\"event_name\") == \"ADD_PROMO\") | (col(\"event_name\") == \"ADD_TO_CART\"),\n",
    "    \"num_cat_midvalue\": (col(\"event_name\") == \"VIEW_PROMO\") | (col(\"event_name\") == \"VIEW_ITEM\") | (col(\"event_name\") == \"SEARCH\"),\n",
    "    \"num_cat_lowvalue\": (col(\"event_name\") == \"SCROLL\") | (col(\"event_name\") == \"HOMEPAGE\") | (col(\"event_name\") == \"CLICK\")\n",
    "}"
   ]
  },
  {
   "cell_type": "code",
   "execution_count": 8,
   "metadata": {
    "id": "-SOb05fRl3p3"
   },
   "outputs": [],
   "source": [
    "click_stream_df = click_stream_df.withColumn(\"event_month\", month(col(\"event_time\")))"
   ]
  },
  {
   "cell_type": "code",
   "execution_count": 9,
   "metadata": {
    "colab": {
     "base_uri": "https://localhost:8080/"
    },
    "id": "zPMpW5xn8Q8N",
    "outputId": "260d9abf-4060-4f6c-c59a-92badd70c943"
   },
   "outputs": [
    {
     "name": "stdout",
     "output_type": "stream",
     "text": [
      "+------------------------------------+---------+-----------------+----------------+----------------+-----------+\n",
      "|session_id                          |add_promo|num_cat_highvalue|num_cat_midvalue|num_cat_lowvalue|event_month|\n",
      "+------------------------------------+---------+-----------------+----------------+----------------+-----------+\n",
      "|2fdb7762-98d5-4324-ba49-e71164b44ff9|0        |1                |2               |2               |4          |\n",
      "|e7f689a1-28a0-4fe7-9e12-c40f9fcc9b0f|0        |1                |1               |3               |4          |\n",
      "|2faff3e1-25cf-438f-a81e-4f0c5878bc4e|1        |2                |6               |13              |9          |\n",
      "|3f2d99e1-51ff-402a-a831-02f3c68cbc39|0        |1                |0               |2               |3          |\n",
      "|5386d3f4-98ea-448c-bdf3-88d55877fc52|1        |2                |9               |18              |12         |\n",
      "|30f85513-ceae-4527-b59f-a4b79a6ed2ab|0        |1                |2               |2               |7          |\n",
      "|fd129bab-a0f5-4cb0-903b-3bcdebf2a5fe|1        |2                |1               |3               |3          |\n",
      "|ca5a180c-89c0-4650-a321-1443326dbaaf|1        |2                |8               |21              |3          |\n",
      "|ea83f50c-a950-4033-a39f-e694cd33d6be|1        |2                |1               |5               |4          |\n",
      "|5a35be33-3f0b-4cf6-a7ee-67563985dbf5|1        |2                |1               |9               |6          |\n",
      "|e525a3e3-c6d3-4c44-8262-c621d773ef3b|0        |2                |2               |3               |9          |\n",
      "|33f8296c-d52f-4352-bfcd-8611c35d35af|1        |2                |3               |7               |11         |\n",
      "|b942cc5b-cd75-49ef-b609-78adef0fb87f|0        |1                |10              |23              |12         |\n",
      "|5ed58b7b-2382-4fcc-a1b0-2aaced9ca577|1        |2                |10              |17              |9          |\n",
      "|44899309-f74c-4484-8655-c87b51195ca4|1        |5                |3               |2               |11         |\n",
      "|ecd82682-0e42-44b7-addb-99775180e0c4|1        |5                |6               |4               |2          |\n",
      "|4e8c16ef-26f0-480b-a4c6-a0e2135a2b21|0        |1                |17              |34              |3          |\n",
      "|74ba7b2e-63c8-4717-8ea2-54aaad551302|0        |1                |1               |2               |9          |\n",
      "|5c332ac3-be87-403c-afbd-336740569d30|1        |2                |2               |3               |1          |\n",
      "|67156b06-819a-4f1c-b6e8-95e668c34357|1        |2                |0               |2               |5          |\n",
      "+------------------------------------+---------+-----------------+----------------+----------------+-----------+\n",
      "only showing top 20 rows\n",
      "\n"
     ]
    }
   ],
   "source": [
    "from pyspark.sql import functions as F\n",
    "\n",
    "for category_name, condition in category_conditions.items():\n",
    "    click_stream_df = click_stream_df.withColumn(category_name, when(condition, 1).otherwise(0))\n",
    "\n",
    "feature_df = click_stream_df.groupBy(\"session_id\").agg(\n",
    "    F.sum(\"add_promo\").alias(\"add_promo\"),\n",
    "    F.sum(\"num_cat_highvalue\").alias(\"num_cat_highvalue\"),\n",
    "    F.sum(\"num_cat_midvalue\").alias(\"num_cat_midvalue\"),\n",
    "    F.sum(\"num_cat_lowvalue\").alias(\"num_cat_lowvalue\"),\n",
    "    F.max(\"event_month\").alias(\"event_month\")\n",
    ")\n",
    "feature_df.show(truncate=False)"
   ]
  },
  {
   "cell_type": "markdown",
   "metadata": {
    "id": "bNNIp9M7Owy4"
   },
   "source": [
    "1.2.2. Create 2 columns with percentage ratio of high value action and low value actions. (i.e. high value ratio = (count of high value actions)/(total actions) * 100%)"
   ]
  },
  {
   "cell_type": "code",
   "execution_count": 10,
   "metadata": {
    "colab": {
     "base_uri": "https://localhost:8080/"
    },
    "id": "0fKPm9eu9Bv5",
    "outputId": "26cdd094-8b7c-4c58-f813-399e87b282ed"
   },
   "outputs": [
    {
     "name": "stdout",
     "output_type": "stream",
     "text": [
      "+--------------------+---------+-----------------+----------------+----------------+-----------+-------------+------------------+------------------+\n",
      "|          session_id|add_promo|num_cat_highvalue|num_cat_midvalue|num_cat_lowvalue|event_month|total_actions|  high_value_ratio|   low_value_ratio|\n",
      "+--------------------+---------+-----------------+----------------+----------------+-----------+-------------+------------------+------------------+\n",
      "|2fdb7762-98d5-432...|        0|                1|               2|               2|          4|            5|              20.0|              40.0|\n",
      "|e7f689a1-28a0-4fe...|        0|                1|               1|               3|          4|            5|              20.0|              60.0|\n",
      "|2faff3e1-25cf-438...|        1|                2|               6|              13|          9|           21| 9.523809523809524|61.904761904761905|\n",
      "|3f2d99e1-51ff-402...|        0|                1|               0|               2|          3|            3| 33.33333333333333| 66.66666666666666|\n",
      "|5386d3f4-98ea-448...|        1|                2|               9|              18|         12|           29| 6.896551724137931| 62.06896551724138|\n",
      "|30f85513-ceae-452...|        0|                1|               2|               2|          7|            5|              20.0|              40.0|\n",
      "|fd129bab-a0f5-4cb...|        1|                2|               1|               3|          3|            6| 33.33333333333333|              50.0|\n",
      "|ca5a180c-89c0-465...|        1|                2|               8|              21|          3|           31| 6.451612903225806| 67.74193548387096|\n",
      "|ea83f50c-a950-403...|        1|                2|               1|               5|          4|            8|              25.0|              62.5|\n",
      "|5a35be33-3f0b-4cf...|        1|                2|               1|               9|          6|           12|16.666666666666664|              75.0|\n",
      "|e525a3e3-c6d3-4c4...|        0|                2|               2|               3|          9|            7| 28.57142857142857|42.857142857142854|\n",
      "|33f8296c-d52f-435...|        1|                2|               3|               7|         11|           12|16.666666666666664|58.333333333333336|\n",
      "|b942cc5b-cd75-49e...|        0|                1|              10|              23|         12|           34| 2.941176470588235| 67.64705882352942|\n",
      "|5ed58b7b-2382-4fc...|        1|                2|              10|              17|          9|           29| 6.896551724137931|58.620689655172406|\n",
      "|44899309-f74c-448...|        1|                5|               3|               2|         11|           10|              50.0|              20.0|\n",
      "|ecd82682-0e42-44b...|        1|                5|               6|               4|          2|           15| 33.33333333333333|26.666666666666668|\n",
      "|4e8c16ef-26f0-480...|        0|                1|              17|              34|          3|           52|1.9230769230769231| 65.38461538461539|\n",
      "|74ba7b2e-63c8-471...|        0|                1|               1|               2|          9|            4|              25.0|              50.0|\n",
      "|5c332ac3-be87-403...|        1|                2|               2|               3|          1|            7| 28.57142857142857|42.857142857142854|\n",
      "|67156b06-819a-4f1...|        1|                2|               0|               2|          5|            4|              50.0|              50.0|\n",
      "+--------------------+---------+-----------------+----------------+----------------+-----------+-------------+------------------+------------------+\n",
      "only showing top 20 rows\n",
      "\n"
     ]
    }
   ],
   "source": [
    "feature_df = feature_df.withColumn(\"total_actions\", col(\"num_cat_highvalue\") + col(\"num_cat_midvalue\") + col(\"num_cat_lowvalue\"))\n",
    "feature_df = feature_df.withColumn(\"high_value_ratio\", (col(\"num_cat_highvalue\") / col(\"total_actions\")) * 100)\n",
    "feature_df = feature_df.withColumn(\"low_value_ratio\", (col(\"num_cat_lowvalue\") / col(\"total_actions\")) * 100)\n",
    "feature_df.show()"
   ]
  },
  {
   "cell_type": "markdown",
   "metadata": {
    "id": "SvEh_hIXOwy5"
   },
   "source": [
    "1.2.3 Create a new column “is_promotion” with value of 1 or 0 and add to feature_df. If there are “ADD_PROMO” actions in a session, set it to 1, otherwise 0."
   ]
  },
  {
   "cell_type": "code",
   "execution_count": 11,
   "metadata": {
    "colab": {
     "base_uri": "https://localhost:8080/"
    },
    "id": "ZUNrCTC1Owy6",
    "outputId": "c6397f76-29bb-470d-87b8-eaf64f927177"
   },
   "outputs": [
    {
     "name": "stdout",
     "output_type": "stream",
     "text": [
      "+--------------------+---------+-----------------+----------------+----------------+-----------+-------------+------------------+------------------+------------+\n",
      "|          session_id|add_promo|num_cat_highvalue|num_cat_midvalue|num_cat_lowvalue|event_month|total_actions|  high_value_ratio|   low_value_ratio|is_promotion|\n",
      "+--------------------+---------+-----------------+----------------+----------------+-----------+-------------+------------------+------------------+------------+\n",
      "|2fdb7762-98d5-432...|        0|                1|               2|               2|          4|            5|              20.0|              40.0|           0|\n",
      "|e7f689a1-28a0-4fe...|        0|                1|               1|               3|          4|            5|              20.0|              60.0|           0|\n",
      "|2faff3e1-25cf-438...|        1|                2|               6|              13|          9|           21| 9.523809523809524|61.904761904761905|           1|\n",
      "|3f2d99e1-51ff-402...|        0|                1|               0|               2|          3|            3| 33.33333333333333| 66.66666666666666|           0|\n",
      "|5386d3f4-98ea-448...|        1|                2|               9|              18|         12|           29| 6.896551724137931| 62.06896551724138|           1|\n",
      "|30f85513-ceae-452...|        0|                1|               2|               2|          7|            5|              20.0|              40.0|           0|\n",
      "|fd129bab-a0f5-4cb...|        1|                2|               1|               3|          3|            6| 33.33333333333333|              50.0|           1|\n",
      "|ca5a180c-89c0-465...|        1|                2|               8|              21|          3|           31| 6.451612903225806| 67.74193548387096|           1|\n",
      "|ea83f50c-a950-403...|        1|                2|               1|               5|          4|            8|              25.0|              62.5|           1|\n",
      "|5a35be33-3f0b-4cf...|        1|                2|               1|               9|          6|           12|16.666666666666664|              75.0|           1|\n",
      "|e525a3e3-c6d3-4c4...|        0|                2|               2|               3|          9|            7| 28.57142857142857|42.857142857142854|           0|\n",
      "|33f8296c-d52f-435...|        1|                2|               3|               7|         11|           12|16.666666666666664|58.333333333333336|           1|\n",
      "|b942cc5b-cd75-49e...|        0|                1|              10|              23|         12|           34| 2.941176470588235| 67.64705882352942|           0|\n",
      "|5ed58b7b-2382-4fc...|        1|                2|              10|              17|          9|           29| 6.896551724137931|58.620689655172406|           1|\n",
      "|44899309-f74c-448...|        1|                5|               3|               2|         11|           10|              50.0|              20.0|           1|\n",
      "|ecd82682-0e42-44b...|        1|                5|               6|               4|          2|           15| 33.33333333333333|26.666666666666668|           1|\n",
      "|4e8c16ef-26f0-480...|        0|                1|              17|              34|          3|           52|1.9230769230769231| 65.38461538461539|           0|\n",
      "|74ba7b2e-63c8-471...|        0|                1|               1|               2|          9|            4|              25.0|              50.0|           0|\n",
      "|5c332ac3-be87-403...|        1|                2|               2|               3|          1|            7| 28.57142857142857|42.857142857142854|           1|\n",
      "|67156b06-819a-4f1...|        1|                2|               0|               2|          5|            4|              50.0|              50.0|           1|\n",
      "+--------------------+---------+-----------------+----------------+----------------+-----------+-------------+------------------+------------------+------------+\n",
      "only showing top 20 rows\n",
      "\n"
     ]
    }
   ],
   "source": [
    "feature_df = feature_df.withColumn(\"is_promotion\", when(col(\"add_promo\") > 0, 1).otherwise(0))\n",
    "feature_df.show()"
   ]
  },
  {
   "cell_type": "markdown",
   "metadata": {
    "id": "dApVAqmWOwy6"
   },
   "source": [
    "1.2.4 For each unique session_id, base on event_time, extract the season. (note: The dataset is from Indonesia, Spring: Mar-May, Summer: Jun-Aug, Autumn: Sep-Nov, Winter: Dec-Feb)"
   ]
  },
  {
   "cell_type": "code",
   "execution_count": 12,
   "metadata": {
    "colab": {
     "base_uri": "https://localhost:8080/"
    },
    "id": "QoHlSqCKDpwQ",
    "outputId": "b2ae2b7c-eb24-40eb-ddd3-dfca18834730"
   },
   "outputs": [
    {
     "name": "stdout",
     "output_type": "stream",
     "text": [
      "+--------------------+---------+-----------------+----------------+----------------+-----------+-------------+------------------+------------------+------------+------+\n",
      "|          session_id|add_promo|num_cat_highvalue|num_cat_midvalue|num_cat_lowvalue|event_month|total_actions|  high_value_ratio|   low_value_ratio|is_promotion|season|\n",
      "+--------------------+---------+-----------------+----------------+----------------+-----------+-------------+------------------+------------------+------------+------+\n",
      "|2fdb7762-98d5-432...|        0|                1|               2|               2|          4|            5|              20.0|              40.0|           0|Spring|\n",
      "|e7f689a1-28a0-4fe...|        0|                1|               1|               3|          4|            5|              20.0|              60.0|           0|Spring|\n",
      "|2faff3e1-25cf-438...|        1|                2|               6|              13|          9|           21| 9.523809523809524|61.904761904761905|           1|Autumn|\n",
      "|3f2d99e1-51ff-402...|        0|                1|               0|               2|          3|            3| 33.33333333333333| 66.66666666666666|           0|Spring|\n",
      "|5386d3f4-98ea-448...|        1|                2|               9|              18|         12|           29| 6.896551724137931| 62.06896551724138|           1|Winter|\n",
      "|30f85513-ceae-452...|        0|                1|               2|               2|          7|            5|              20.0|              40.0|           0|Summer|\n",
      "|fd129bab-a0f5-4cb...|        1|                2|               1|               3|          3|            6| 33.33333333333333|              50.0|           1|Spring|\n",
      "|ca5a180c-89c0-465...|        1|                2|               8|              21|          3|           31| 6.451612903225806| 67.74193548387096|           1|Spring|\n",
      "|ea83f50c-a950-403...|        1|                2|               1|               5|          4|            8|              25.0|              62.5|           1|Spring|\n",
      "|5a35be33-3f0b-4cf...|        1|                2|               1|               9|          6|           12|16.666666666666664|              75.0|           1|Summer|\n",
      "|e525a3e3-c6d3-4c4...|        0|                2|               2|               3|          9|            7| 28.57142857142857|42.857142857142854|           0|Autumn|\n",
      "|33f8296c-d52f-435...|        1|                2|               3|               7|         11|           12|16.666666666666664|58.333333333333336|           1|Autumn|\n",
      "|b942cc5b-cd75-49e...|        0|                1|              10|              23|         12|           34| 2.941176470588235| 67.64705882352942|           0|Winter|\n",
      "|5ed58b7b-2382-4fc...|        1|                2|              10|              17|          9|           29| 6.896551724137931|58.620689655172406|           1|Autumn|\n",
      "|44899309-f74c-448...|        1|                5|               3|               2|         11|           10|              50.0|              20.0|           1|Autumn|\n",
      "|ecd82682-0e42-44b...|        1|                5|               6|               4|          2|           15| 33.33333333333333|26.666666666666668|           1|Winter|\n",
      "|4e8c16ef-26f0-480...|        0|                1|              17|              34|          3|           52|1.9230769230769231| 65.38461538461539|           0|Spring|\n",
      "|74ba7b2e-63c8-471...|        0|                1|               1|               2|          9|            4|              25.0|              50.0|           0|Autumn|\n",
      "|5c332ac3-be87-403...|        1|                2|               2|               3|          1|            7| 28.57142857142857|42.857142857142854|           1|Winter|\n",
      "|67156b06-819a-4f1...|        1|                2|               0|               2|          5|            4|              50.0|              50.0|           1|Spring|\n",
      "+--------------------+---------+-----------------+----------------+----------------+-----------+-------------+------------------+------------------+------------+------+\n",
      "only showing top 20 rows\n",
      "\n"
     ]
    }
   ],
   "source": [
    "from pyspark.sql.functions import to_timestamp, month, when,udf\n",
    "def map_to_season1(month):\n",
    "    if month in [3, 4, 5]:\n",
    "        return \"Spring\"\n",
    "    elif month in [6, 7, 8]:\n",
    "        return \"Summer\"\n",
    "    elif month in [9, 10, 11]:\n",
    "        return \"Autumn\"\n",
    "    else:\n",
    "        return \"Winter\"\n",
    "map_to_season = udf(lambda z: map_to_season1(z))\n",
    "feature_df = feature_df.withColumn(\"season\", when(col(\"event_month\").isNotNull(), map_to_season(col(\"event_month\"))).otherwise(None))\n",
    "feature_df.show()"
   ]
  },
  {
   "cell_type": "markdown",
   "metadata": {
    "id": "vQbGg-AyOwy7"
   },
   "source": [
    "1.2.5 Join tables to find customer information and add columns to feature_df: gender, age, device type, home_location, first join year. (note: For some column, you need to perform transformation. For age, keep integer only.)"
   ]
  },
  {
   "cell_type": "code",
   "execution_count": 13,
   "metadata": {
    "colab": {
     "base_uri": "https://localhost:8080/"
    },
    "id": "FSM1KDBDOwy7",
    "outputId": "8abd5cdf-3d98-4f00-ce94-2b1293c36094"
   },
   "outputs": [
    {
     "name": "stdout",
     "output_type": "stream",
     "text": [
      "+--------------------+---------+-----------------+----------------+----------------+-----------+-------------+------------------+------------------+------------+------+-----------+------+-----------+--------------+---------------+---+\n",
      "|          session_id|add_promo|num_cat_highvalue|num_cat_midvalue|num_cat_lowvalue|event_month|total_actions|  high_value_ratio|   low_value_ratio|is_promotion|season|customer_id|gender|device_type| home_location|first_join_year|age|\n",
      "+--------------------+---------+-----------------+----------------+----------------+-----------+-------------+------------------+------------------+------------+------+-----------+------+-----------+--------------+---------------+---+\n",
      "|0bad921c-cb17-489...|        0|                1|               8|              42|          8|           51|1.9607843137254901| 82.35294117647058|           0|Summer|      10000|     M|    Android|   Jawa Tengah|           2021| 18|\n",
      "|b91fb12f-63d7-4ab...|        1|                8|              10|              10|         12|           28| 28.57142857142857|35.714285714285715|           1|Winter|      10000|     M|    Android|   Jawa Tengah|           2021| 18|\n",
      "|bc63279e-9c5f-402...|        0|                9|               4|               9|         10|           22|40.909090909090914|40.909090909090914|           0|Autumn|      10000|     M|    Android|   Jawa Tengah|           2021| 18|\n",
      "|e4bfd369-da65-4ca...|        0|                1|               0|               2|          9|            3| 33.33333333333333| 66.66666666666666|           0|Autumn|      10000|     M|    Android|   Jawa Tengah|           2021| 18|\n",
      "|f5671bc3-bdb4-482...|        0|                3|               0|               2|          3|            5|              60.0|              40.0|           0|Spring|      10000|     M|    Android|   Jawa Tengah|           2021| 18|\n",
      "|94011f4c-dbfd-4f8...|        0|                1|               0|               2|          6|            3| 33.33333333333333| 66.66666666666666|           0|Summer|      10000|     M|    Android|   Jawa Tengah|           2021| 18|\n",
      "|9e743e81-3136-4e0...|        0|                1|               1|               1|         12|            3| 33.33333333333333| 33.33333333333333|           0|Winter|      10000|     M|    Android|   Jawa Tengah|           2021| 18|\n",
      "|ac958012-98a5-41b...|        0|                4|               6|               9|          5|           19|21.052631578947366|47.368421052631575|           0|Spring|      10000|     M|    Android|   Jawa Tengah|           2021| 18|\n",
      "|8122df7f-2ff1-49b...|        1|                3|               0|               6|          6|            9| 33.33333333333333| 66.66666666666666|           1|Summer|      10009|     M|    Android|Sumatera Utara|           2019| 22|\n",
      "|e7bc6fab-8cff-4ce...|        0|                2|               4|              13|          8|           19|10.526315789473683| 68.42105263157895|           0|Summer|      10009|     M|    Android|Sumatera Utara|           2019| 22|\n",
      "|35713d63-ba9c-40e...|        1|                3|               2|               4|          1|            9| 33.33333333333333| 44.44444444444444|           1|Winter|      10009|     M|    Android|Sumatera Utara|           2019| 22|\n",
      "|26d14bae-6ad0-4cb...|        0|                1|               0|               7|          3|            8|              12.5|              87.5|           0|Spring|      10009|     M|    Android|Sumatera Utara|           2019| 22|\n",
      "|6317f9fe-2b62-482...|        0|                1|               2|               2|          8|            5|              20.0|              40.0|           0|Summer|      10009|     M|    Android|Sumatera Utara|           2019| 22|\n",
      "|84917c8d-564b-438...|        0|                2|               0|               2|          6|            4|              50.0|              50.0|           0|Summer|      10009|     M|    Android|Sumatera Utara|           2019| 22|\n",
      "|7d3065ea-2f25-45c...|        0|                2|               1|               3|          2|            6| 33.33333333333333|              50.0|           0|Winter|      10009|     M|    Android|Sumatera Utara|           2019| 22|\n",
      "|f2821a65-f537-45f...|        0|                2|               1|               3|         10|            6| 33.33333333333333|              50.0|           0|Autumn|      10009|     M|    Android|Sumatera Utara|           2019| 22|\n",
      "|dc1f490a-b573-4d2...|        1|                2|               1|               2|         11|            5|              40.0|              40.0|           1|Autumn|      10009|     M|    Android|Sumatera Utara|           2019| 22|\n",
      "|2ec51904-adb9-486...|        0|                6|               7|               9|         12|           22| 27.27272727272727|40.909090909090914|           0|Winter|      10011|     M|    Android|    Yogyakarta|           2020| 21|\n",
      "|995bbb21-935b-483...|        0|                2|               1|               1|         12|            4|              50.0|              25.0|           0|Winter|      10011|     M|    Android|    Yogyakarta|           2020| 21|\n",
      "|9cfda739-426a-4f9...|        0|                2|               0|               3|          6|            5|              40.0|              60.0|           0|Summer|      10011|     M|    Android|    Yogyakarta|           2020| 21|\n",
      "+--------------------+---------+-----------------+----------------+----------------+-----------+-------------+------------------+------------------+------------+------+-----------+------+-----------+--------------+---------------+---+\n",
      "only showing top 20 rows\n",
      "\n"
     ]
    }
   ],
   "source": [
    "from pyspark.sql.functions import year,current_date\n",
    "joined_df1 = feature_df.join(transaction_df, \"session_id\", \"inner\")\n",
    "joined_df = joined_df1.join(customer_df, \"customer_id\", \"inner\")\n",
    "joined_df = joined_df.withColumn(\"age\", year(current_date()) - year(col(\"birthdate\")))\n",
    "joined_df = joined_df.withColumn(\"first_join_year\", year(col(\"first_join_date\")))\n",
    "customer_info_columns = [\"customer_id\", \"gender\", \"device_type\", \"home_location\", \"first_join_year\",\"age\"]\n",
    "feature_df = joined_df.select(*(feature_df.columns + customer_info_columns))\n",
    "feature_df.show()"
   ]
  },
  {
   "cell_type": "markdown",
   "metadata": {
    "id": "P1c1FtMTOwy7"
   },
   "source": [
    "1.2.6 Join tables to find out if the customer made purchase or not, and add to feature_df as 1 or 0. We will use this column as training label later."
   ]
  },
  {
   "cell_type": "code",
   "execution_count": 14,
   "metadata": {
    "colab": {
     "base_uri": "https://localhost:8080/"
    },
    "id": "8vAG9WBAOwy7",
    "outputId": "479dde46-a8c2-44ee-80e3-769d10ed0bf7"
   },
   "outputs": [
    {
     "name": "stdout",
     "output_type": "stream",
     "text": [
      "+--------------------+-----------------+----------------+----------------+------------------+------------------+------------+------+------+---+-----------+-------------------+---------------+---------------+\n",
      "|          session_id|num_cat_highvalue|num_cat_midvalue|num_cat_lowvalue|  high_value_ratio|   low_value_ratio|is_promotion|season|gender|age|device_type|      home_location|first_join_year|purchase_status|\n",
      "+--------------------+-----------------+----------------+----------------+------------------+------------------+------------+------+------+---+-----------+-------------------+---------------+---------------+\n",
      "|00005746-17ec-449...|                1|              20|              44|1.5384615384615385|  67.6923076923077|           0|Spring|     M| 21|    Android|       Jakarta Raya|           2020|              0|\n",
      "|0000a729-3de3-461...|                2|               0|               2|              50.0|              50.0|           0|Spring|     M| 18|    Android|       Jakarta Raya|           2021|              0|\n",
      "|000128d0-c51c-411...|                2|               6|               6|14.285714285714285|42.857142857142854|           0|Summer|     F| 23|    Android|         Jawa Timur|           2018|              1|\n",
      "|000130b9-07d1-437...|                1|              11|              34|2.1739130434782608| 73.91304347826086|           0|Autumn|     M| 26|    Android|         Yogyakarta|           2020|              0|\n",
      "|0001434a-955b-41a...|                2|               1|               2|              40.0|              40.0|           1|Autumn|     F| 25|    Android|             Maluku|           2018|              1|\n",
      "|0001971f-84ae-4ba...|                2|               3|               9|14.285714285714285| 64.28571428571429|           1|Summer|     F| 27|        iOS|        Jawa Tengah|           2017|              1|\n",
      "|0001972b-927b-40a...|                4|               0|               4|              50.0|              50.0|           1|Summer|     F| 14|    Android| Kalimantan Selatan|           2017|              1|\n",
      "|0001d650-1218-4e8...|                3|               4|               8|              20.0|53.333333333333336|           0|Spring|     M| 26|    Android|         Jawa Timur|           2016|              0|\n",
      "|0002451c-6217-4d0...|                1|               1|               1| 33.33333333333333| 33.33333333333333|           0|Spring|     F| 39|        iOS|         Yogyakarta|           2021|              1|\n",
      "|0002b514-75f2-457...|                1|               1|               4|16.666666666666664| 66.66666666666666|           0|Summer|     F| 28|    Android|     Sumatera Utara|           2018|              0|\n",
      "|0002d4fd-9985-4fd...|                8|              10|              12|26.666666666666668|              40.0|           1|Spring|     M| 29|    Android|         Jawa Barat|           2017|              1|\n",
      "|00034035-1258-409...|                2|               3|               2| 28.57142857142857| 28.57142857142857|           1|Winter|     F| 27|    Android|Nusa Tenggara Barat|           2020|              1|\n",
      "|00037246-503b-4b5...|                2|               8|              11| 9.523809523809524| 52.38095238095239|           1|Spring|     M| 25|    Android|       Jakarta Raya|           2017|              1|\n",
      "|0003cf84-4bba-4d7...|                2|               6|              26|  5.88235294117647| 76.47058823529412|           1|Winter|     M| 30|    Android|            Lampung|           2019|              1|\n",
      "|0003ff81-e79d-4d8...|                1|               4|              14| 5.263157894736842| 73.68421052631578|           0|Spring|     F| 24|    Android|       Jakarta Raya|           2020|              1|\n",
      "|00049358-f228-48a...|                3|               0|               1|              75.0|              25.0|           0|Winter|     F| 24|    Android|        Jawa Tengah|           2017|              1|\n",
      "|0004a700-7db4-412...|                3|               2|              10|              20.0| 66.66666666666666|           0|Summer|     M| 31|    Android|       Jakarta Raya|           2021|              0|\n",
      "|00052a85-d4c3-436...|                1|               0|               2| 33.33333333333333| 66.66666666666666|           0|Autumn|     M| 30|    Android|             Maluku|           2021|              0|\n",
      "|000564d1-2ed4-464...|                1|               1|               3|              20.0|              60.0|           0|Spring|     M| 22|    Android|   Sulawesi Selatan|           2017|              0|\n",
      "|00058dfc-08c3-45d...|                3|               2|               3|              37.5|              37.5|           1|Summer|     F| 38|    Android|         Jawa Barat|           2017|              1|\n",
      "+--------------------+-----------------+----------------+----------------+------------------+------------------+------------+------+------+---+-----------+-------------------+---------------+---------------+\n",
      "only showing top 20 rows\n",
      "\n"
     ]
    }
   ],
   "source": [
    "joined_df = feature_df.join(transaction_df, \"session_id\", \"inner\")\n",
    "joined_df = joined_df.withColumn(\"purchase_status\", when(col(\"payment_status\")  == \"Success\", 1).otherwise(0))\n",
    "feature_df = joined_df.select(\"session_id\", \"num_cat_highvalue\", \"num_cat_midvalue\", \"num_cat_lowvalue\", \"high_value_ratio\", \"low_value_ratio\", \"is_promotion\",\"season\", \"gender\", \"age\", \"device_type\", \"home_location\", \"first_join_year\", \"purchase_status\")\n",
    "feature_df.show()"
   ]
  },
  {
   "cell_type": "markdown",
   "metadata": {
    "id": "JPUA1e14Owy8"
   },
   "source": [
    "### 1.3 Exploring the Data <a class=\"anchor\" name=\"1.3\"></a>\n",
    "**1.3.1 With the feature_df, write code to show the basic statistics: a) For each numeric column, show count, mean, stddev, min, max, 25 percentile, 50 percentile, 75 percentile; b)For each non-numeric column, display the top-5 values and the corresponding counts; c) For each boolean column, display the value and count.**"
   ]
  },
  {
   "cell_type": "code",
   "execution_count": 15,
   "metadata": {
    "colab": {
     "base_uri": "https://localhost:8080/"
    },
    "id": "GTvkxA57Owy8",
    "outputId": "60969c63-f405-4c7a-f6a8-2f994e173c2b"
   },
   "outputs": [
    {
     "name": "stdout",
     "output_type": "stream",
     "text": [
      "+-------+------------------+------------------+-----------------+------------------+------------------+------------------+------------------+\n",
      "|summary| num_cat_highvalue|  num_cat_midvalue| num_cat_lowvalue|  high_value_ratio|   low_value_ratio|               age|   first_join_year|\n",
      "+-------+------------------+------------------+-----------------+------------------+------------------+------------------+------------------+\n",
      "|  count|            852582|            852582|           852582|            852582|            852582|            852582|            852582|\n",
      "|   mean|2.6051054326739247|3.4767916751702477|7.536056355869582|  26.8371588826945|51.904517056564174|27.397053890417578| 2018.674827758503|\n",
      "| stddev|2.3019669452150615| 4.517714508936985|9.364566759935979|17.369969954690383| 16.10473358964654|7.2859722210688735|1.6759156622858395|\n",
      "|    min|                 1|                 0|                1|0.2074688796680498|1.8181818181818181|                 7|              2016|\n",
      "|    25%|                 1|                 1|                2|              12.5|              40.0|                22|              2017|\n",
      "|    50%|                 2|                 2|                5|              25.0| 52.17391304347826|                27|              2019|\n",
      "|    75%|                 3|                 5|                9| 33.33333333333333| 65.51724137931035|                32|              2020|\n",
      "|    max|                53|               157|              512| 96.66666666666667| 95.83333333333334|                69|              2022|\n",
      "+-------+------------------+------------------+-----------------+------------------+------------------+------------------+------------------+\n",
      "\n",
      "Top 5 values and counts for column 'session_id':\n",
      "+--------------------+-----+\n",
      "|          session_id|count|\n",
      "+--------------------+-----+\n",
      "|00008762-b685-4f9...|    1|\n",
      "|000593e4-535e-43f...|    1|\n",
      "|00001f29-3ede-444...|    1|\n",
      "|003ad552-b6e0-484...|    1|\n",
      "|00005746-17ec-449...|    1|\n",
      "+--------------------+-----+\n",
      "only showing top 5 rows\n",
      "\n",
      "Top 5 values and counts for column 'gender':\n",
      "+------+------+\n",
      "|gender| count|\n",
      "+------+------+\n",
      "|     F|543509|\n",
      "|     M|309073|\n",
      "+------+------+\n",
      "\n",
      "Top 5 values and counts for column 'device_type':\n",
      "+-----------+------+\n",
      "|device_type| count|\n",
      "+-----------+------+\n",
      "|    Android|656809|\n",
      "|        iOS|195773|\n",
      "+-----------+------+\n",
      "\n",
      "Top 5 values and counts for column 'home_location':\n",
      "+-------------+------+\n",
      "|home_location| count|\n",
      "+-------------+------+\n",
      "| Jakarta Raya|156698|\n",
      "|   Jawa Barat|101244|\n",
      "|  Jawa Tengah| 95240|\n",
      "|   Jawa Timur| 81106|\n",
      "|   Yogyakarta| 66444|\n",
      "+-------------+------+\n",
      "only showing top 5 rows\n",
      "\n",
      "Top 5 values and counts for column 'season':\n",
      "+------+------+\n",
      "|season| count|\n",
      "+------+------+\n",
      "|Spring|231177|\n",
      "|Summer|221346|\n",
      "|Winter|209058|\n",
      "|Autumn|191001|\n",
      "+------+------+\n",
      "\n",
      "Value and count for boolean column 'is_promotion':\n",
      "+------------+------+\n",
      "|is_promotion| count|\n",
      "+------------+------+\n",
      "|           1|326535|\n",
      "|           0|526047|\n",
      "+------------+------+\n",
      "\n",
      "Value and count for boolean column 'purchase_status':\n",
      "+---------------+------+\n",
      "|purchase_status| count|\n",
      "+---------------+------+\n",
      "|              1|527812|\n",
      "|              0|324770|\n",
      "+---------------+------+\n",
      "\n"
     ]
    }
   ],
   "source": [
    "numeric_stats = feature_df.select(\"num_cat_highvalue\", \"num_cat_midvalue\", \"num_cat_lowvalue\", \"high_value_ratio\", \"low_value_ratio\", \"age\", \"first_join_year\").summary()\n",
    "numeric_stats.show()\n",
    "\n",
    "non_numeric_columns = [\"session_id\", \"gender\", \"device_type\", \"home_location\",\"season\"]\n",
    "for column in non_numeric_columns:\n",
    "    non_numeric_stats = feature_df.groupBy(column).count().orderBy(col(\"count\").desc())\n",
    "    print(f\"Top 5 values and counts for column '{column}':\")\n",
    "    non_numeric_stats.show(5)\n",
    "\n",
    "boolean_columns = [\"is_promotion\",\"purchase_status\"]\n",
    "for column in boolean_columns:\n",
    "    boolean_stats = feature_df.groupBy(column).count()\n",
    "    print(f\"Value and count for boolean column '{column}':\")\n",
    "    boolean_stats.show()"
   ]
  },
  {
   "cell_type": "markdown",
   "metadata": {
    "id": "rTUpNZXgOwy8"
   },
   "source": [
    "**1.3.2 Explore the dataframe and write code to present two plots worthy of presentation to the company, describe your plots and discuss the findings from the plots.**\n",
    "- One of the plots needs to base on feature_df, you’re free to choose the other one.  \n",
    "- Hint: you can use the basic plots (e.g., histograms, line charts, scatter plots) for the relationship between a column and the label; or more advanced plots like correlation plots; 2: if your data is too large for the plotting, consider using sampling before plotting.  \n",
    "- 150 words max for each plot’s description and discussion  \n",
    "- Feel free to use any plotting libraries: matplotlib, seabon, plotly, etc.  \n",
    "- Please only use the provided data for visualisation  \n"
   ]
  },
  {
   "cell_type": "code",
   "execution_count": 16,
   "metadata": {
    "colab": {
     "base_uri": "https://localhost:8080/",
     "height": 564
    },
    "id": "uJKxVzMnOwy9",
    "outputId": "3090dfeb-67cd-43ab-ee80-e127ba1505aa"
   },
   "outputs": [
    {
     "data": {
      "image/png": "[encoded data removed]",
      "text/plain": [
       "<Figure size 1000x600 with 1 Axes>"
      ]
     },
     "metadata": {},
     "output_type": "display_data"
    }
   ],
   "source": [
    "import matplotlib.pyplot as plt\n",
    "purchased_customers = feature_df.filter(col(\"purchase_status\") == 1)\n",
    "plt.figure(figsize=(10, 6))\n",
    "plt.hist(feature_df.select(\"age\").rdd.flatMap(lambda x: x).collect(), bins=20, alpha=0.5, label=\"All Customers\")\n",
    "plt.hist(purchased_customers.select(\"age\").rdd.flatMap(lambda x: x).collect(), bins=20, alpha=0.5, label=\"Purchased Customers\")\n",
    "plt.xlabel(\"Age\")\n",
    "plt.ylabel(\"Count\")\n",
    "plt.title(\"Distribution of Customer Ages\")\n",
    "plt.legend(loc=\"upper right\")\n",
    "plt.show()"
   ]
  },
  {
   "cell_type": "markdown",
   "metadata": {},
   "source": [
    "We create a histogram to explore the distribution of customer ages (from the feature_df) and its relationship with the purchase status. This histogram plot displays the distribution of customer ages in two groups which are all customers and customers who made a purchase. The x-axis represents the age while the y axis represents the count of the customers. Here we can see the age range of the customers who have the most sessions. Also by comparing the two groups we can observe whether there are any significant differences in age distribution between customers who made a purchase and the overall customer base. However the plots shows us that there are no such tread here. Also we see that the customers in the range of 20-28 have the most sessions peaking at around 22-25.\n"
   ]
  },
  {
   "cell_type": "code",
   "execution_count": 17,
   "metadata": {
    "colab": {
     "base_uri": "https://localhost:8080/",
     "height": 564
    },
    "id": "6oprULQoxmB0",
    "outputId": "21dc6b52-91d0-4ceb-e3f2-09e74fdcabf6"
   },
   "outputs": [
    {
     "data": {
      "image/png": "[encoded data removed]",
      "text/plain": [
       "<Figure size 1000x600 with 1 Axes>"
      ]
     },
     "metadata": {},
     "output_type": "display_data"
    }
   ],
   "source": [
    "import seaborn as sns\n",
    "top_device_types = feature_df.groupBy(\"device_type\").count().orderBy(\"count\", ascending=False).limit(5)\n",
    "plt.figure(figsize=(10, 6))\n",
    "sns.barplot(x=\"count\", y=\"device_type\", data=top_device_types.toPandas(), orient=\"h\")\n",
    "plt.xlabel(\"Count\")\n",
    "plt.ylabel(\"Device Type\")\n",
    "plt.title(\"Top 5 Device Types Used by Customers\")\n",
    "plt.show()"
   ]
  },
  {
   "cell_type": "markdown",
   "metadata": {},
   "source": [
    "For the second plot we create a bar chart to visualize the top 5 device types used by customers. This bar chart provides insight into the top 5 device types used by customers. The x-axis represents the count of customers and the y-axis represents different device types. This can help the company to understand the most prevalent devices among its customer base. This information can be valuable for optimizing the user experience and ensuring that the company's services are accessible on the most commonly used devices. Here we see that most of the customers use an android device as compared to an ios and so the company can priotize working on optimizing or creating an android application instead of an ios application as an example.\n"
   ]
  },
  {
   "cell_type": "markdown",
   "metadata": {
    "id": "QxtElQKcOwy-"
   },
   "source": [
    "## Part 2. Feature extraction and ML training <a class=\"anchor\" name=\"part-2\"></a>\n",
    "In this section, you will need to use PySpark DataFrame functions and ML packages for data preparation, model building, and evaluation. Other ML packages, such as scikit-learn, would receive zero marks. Excessive usage of Spark SQL is discouraged.\n",
    "### 2.1 Discuss the feature selection and prepare the feature columns\n",
    "\n",
    "2.1.1 Based on the data exploration from 1.2 and considering the situation we have, discuss the importance of those features (For example, which features may be useless and should be removed, which feature has a great impact on the label column, which should be transformed) which features you are planning to use? Discuss the reasons for selecting them and how you create/transform them\n",
    "- 300 words max for the discussion\n",
    "- Please only use the provided data for model building\n",
    "- You can create/add additional feature/column based on the dataset\n",
    "- Hint - things to consider include whether to create more feature columns, whether to remove some columns, using the insights from the data exploration/domain knowledge/statistical models  "
   ]
  },
  {
   "cell_type": "markdown",
   "metadata": {},
   "source": [
    "In building a predictive model feature selection plays a critical role in determining the model's accuracy and effectiveness. Considering the companies case study we can discuss the importance of the following features in the dataset:\n",
    "1. Age: Age is likely to be an important feature as it can provide valuable insights into the customer’s behaviour. Younger customers may have different preferences and purchase patterns compared to older customers. This feature should be retained and used as is.\n",
    "2. Device Type: The type of device used by customers could significantly impact their interaction with the platform. Android users might have different behaviours compared to apple users. This categorical feature is important and should be one-hot encoded for model training.\n",
    "3. Gender: Gender is another categorical feature that can influence purchase decisions. It's important to include it in the model and one-hot encoding can be applied for modelling.\n",
    "4. Is_Promotion: The is_promotion column indicates whether a promotion was added during the session could be a strong indicator of purchase behaviour as it probably may lead to more chances of a success payment. This binary feature should be retained as is.\n",
    "5. High Value, Mid Value and Low Value Counts: The counts of high-value and low-value actions can be crucial in understanding the level of customer engagement. They provide valuable context and should be included in the model.\n",
    "6. First Join Year: The year when a customer first joined the platform might indicate customer loyalty or engagement duration. This feature should be retained and used as is.\n",
    "7. Home Location: Home location may or may not have a significant impact on purchase behaviour. It might impact if people from richer locations are more likely to make purchases. It is a categorical value and should be one-hot encoded.\n",
    "8. Season:  The season can be an important temporal feature. Seasonal trends can influence purchase decisions. This feature should be retained and one-hot encoded."
   ]
  },
  {
   "cell_type": "markdown",
   "metadata": {
    "id": "3JTXjveBOwy-"
   },
   "source": [
    "2.1.2 Write code to create/transform the columns based on your discussion above\n",
    "- Hint: You can use one dataframe for both two use cases(classification and k-mean later in part 3) since you can select your desired columns as the input and output for each use case.\n"
   ]
  },
  {
   "cell_type": "code",
   "execution_count": 18,
   "metadata": {
    "id": "Uij2annVOwy_"
   },
   "outputs": [],
   "source": [
    "from pyspark.ml.feature import StringIndexer \n",
    "from pyspark.ml.feature import OneHotEncoder\n",
    "category_input = ['season', 'gender', 'device_type', 'home_location']\n",
    "numeric_input = ['num_cat_highvalue', 'num_cat_lowvalue', 'num_cat_midvalue', 'high_value_ratio','is_promotion','low_value_ratio', 'first_join_year', 'age']\n",
    "catergory_output = 'purchase_status'\n",
    "category_column = category_input + [catergory_output]\n",
    "outputCols=[f'{x}_index' for x in category_input]\n",
    "outputCols.append('label')\n",
    "indexer = StringIndexer(inputCols=category_column,outputCols=outputCols)\n",
    "inputCols_OHE = [x for x in outputCols if x!='label']\n",
    "outputCols_OHE = [f'{x}_vec' for x in category_input]\n",
    "encoder = OneHotEncoder(inputCols=inputCols_OHE,outputCols=outputCols_OHE)"
   ]
  },
  {
   "cell_type": "markdown",
   "metadata": {
    "id": "aBcjuocDOwy_"
   },
   "source": [
    "### 2.2 Preparing Spark ML Transformers/Estimators for features, labels, and models  <a class=\"anchor\" name=\"2.2\"></a>\n",
    "\n",
    "**2.2.1 Write code to create Transformers/Estimators for transforming/assembling the columns you selected above in 2.1, and create ML model Estimators for Random Forest (RF) and Gradient-boosted tree (GBT) model.\n",
    "Please DO NOT fit/transform the data yet**"
   ]
  },
  {
   "cell_type": "code",
   "execution_count": 19,
   "metadata": {
    "id": "7cftwtOcOwy_"
   },
   "outputs": [],
   "source": [
    "from pyspark.ml.linalg import Vectors\n",
    "from sklearn.metrics import roc_curve, auc\n",
    "from pyspark.ml.feature import VectorAssembler\n",
    "from pyspark.ml.classification import GBTClassifier\n",
    "from pyspark.ml.classification import RandomForestClassifier\n",
    "from pyspark.ml.evaluation import BinaryClassificationEvaluator\n",
    "from pyspark.ml import Pipeline\n",
    "\n",
    "inputCols= outputCols_OHE\n",
    "assembler_inputs = inputCols + numeric_input\n",
    "assembler = VectorAssembler(inputCols = assembler_inputs, outputCol=\"features\")\n",
    "rf_estimator = RandomForestClassifier(featuresCol = 'features', labelCol = 'label', maxDepth = 3)\n",
    "gbt_estimator = GBTClassifier(featuresCol='features', labelCol='label', maxDepth=3)"
   ]
  },
  {
   "cell_type": "markdown",
   "metadata": {
    "id": "wU71ZnNVOwy_"
   },
   "source": [
    "**2.2.2. Write code to include the above Transformers/Estimators into two pipelines.\n",
    "Please DO NOT fit/transform the data yet**"
   ]
  },
  {
   "cell_type": "code",
   "execution_count": 20,
   "metadata": {
    "id": "yGa8WEtbOwzA"
   },
   "outputs": [],
   "source": [
    "stage_1 = indexer\n",
    "stage_2 = encoder\n",
    "stage_3 = assembler\n",
    "stage_4 = rf_estimator\n",
    "stages = [stage_1, stage_2, stage_3,stage_4]\n",
    "rfpipeline = Pipeline(stages = stages)"
   ]
  },
  {
   "cell_type": "code",
   "execution_count": 21,
   "metadata": {},
   "outputs": [],
   "source": [
    "stage_4 = gbt_estimator\n",
    "stages = [stage_1, stage_2, stage_3,stage_4]\n",
    "gbtpipeline = Pipeline(stages = stages)"
   ]
  },
  {
   "cell_type": "markdown",
   "metadata": {
    "id": "18gpxrLgOwzA"
   },
   "source": [
    "### 2.3 Preparing the training data and testing data  \n",
    "Write code to split the data for training and testing purposes.  \n",
    "Note: Due to the large size of the dataset, you can choose to use random sampling (say 20% of the dataset) and do a train/test split; or use one year of data for training and another year for testing."
   ]
  },
  {
   "cell_type": "code",
   "execution_count": 22,
   "metadata": {
    "id": "JZKp0y-wOwzA"
   },
   "outputs": [
    {
     "name": "stdout",
     "output_type": "stream",
     "text": [
      "Training Dataset Count: 136305\n",
      "Test Dataset Count: 34023\n"
     ]
    }
   ],
   "source": [
    "test_fraction = 0.2\n",
    "dfs = feature_df.sample(fraction=test_fraction)\n",
    "train, test = dfs.randomSplit([1 - test_fraction, test_fraction])\n",
    "print(\"Training Dataset Count: \" + str(train.count ( )))\n",
    "print(\"Test Dataset Count: \" + str(test.count( )))"
   ]
  },
  {
   "cell_type": "markdown",
   "metadata": {
    "id": "EBtMTLtgOwzA"
   },
   "source": [
    "### 2.4 Training and evaluating models  \n",
    "2.4.1 Write code to use the corresponding ML Pipelines to train the models on the training data from 2.3. And then use the trained models to predict the testing data from 2.3"
   ]
  },
  {
   "cell_type": "code",
   "execution_count": 42,
   "metadata": {
    "id": "nOVGz1U8OwzB"
   },
   "outputs": [],
   "source": [
    "rfmodel=rfpipeline.fit(train)\n",
    "rfpredictions=rfmodel.transform(test)\n",
    "trainingSummary = rfmodel.stages[-1].summary"
   ]
  },
  {
   "cell_type": "code",
   "execution_count": 24,
   "metadata": {},
   "outputs": [
    {
     "name": "stdout",
     "output_type": "stream",
     "text": [
      "+-----+----------+-----+\n",
      "|label|prediction|count|\n",
      "+-----+----------+-----+\n",
      "|  1.0|       1.0| 5367|\n",
      "|  0.0|       1.0|   38|\n",
      "|  1.0|       0.0| 7464|\n",
      "|  0.0|       0.0|21154|\n",
      "+-----+----------+-----+\n",
      "\n",
      "accuracy: 0.7795021015195603\n",
      "f1: 0.5886159245448563\n",
      "precision: 0.9929694727104533\n",
      "recall: 0.4182838438157587\n",
      "TP: 5367\n",
      "TN: 21154\n",
      "FP: 38\n",
      "FN: 7464\n"
     ]
    }
   ],
   "source": [
    "TN=rfpredictions.filter('prediction = 0 AND label = 0').count()\n",
    "TP=rfpredictions.filter('prediction = 1 AND label = 1').count()\n",
    "FN=rfpredictions.filter('prediction = 0 AND label = 1').count()\n",
    "FP=rfpredictions.filter('prediction = 1 AND label = 0').count()\n",
    "rfpredictions.groupBy('label', 'prediction').count().show()\n",
    "accuracy = (TP + TN)/(TP + TN + FN +FP)\n",
    "precision = (TP )/(TP +FP)\n",
    "recall = (TP )/(TP +FN)\n",
    "f1 = (2/((1/recall) + (1/precision)))\n",
    "print('accuracy:',accuracy)\n",
    "print('f1:',f1)\n",
    "print('precision:',precision)\n",
    "print('recall:',recall)\n",
    "print('TP:',TP)\n",
    "print('TN:',TN)\n",
    "print('FP:',FP)\n",
    "print('FN:',FN)"
   ]
  },
  {
   "cell_type": "code",
   "execution_count": 40,
   "metadata": {},
   "outputs": [
    {
     "name": "stdout",
     "output_type": "stream",
     "text": [
      "Area Under ROC: 0.8487234125667534\n"
     ]
    },
    {
     "data": {
      "image/png": "[encoded data removed]",
      "text/plain": [
       "<Figure size 640x480 with 1 Axes>"
      ]
     },
     "metadata": {},
     "output_type": "display_data"
    }
   ],
   "source": [
    "evaluator = BinaryClassificationEvaluator(rawPredictionCol=\"rawPrediction\")\n",
    "print(\"Area Under ROC: \" + str(evaluator.evaluate(rfpredictions, {evaluator.metricName: \"areaUnderROC\"})))\n",
    "roc = trainingSummary.roc.toPandas()\n",
    "plt.plot(roc['FPR'],roc['TPR'])\n",
    "plt.title('Random Forest ROC Curve')\n",
    "plt.xlabel('FPR')\n",
    "plt.ylabel('TPR')\n",
    "plt.show()"
   ]
  },
  {
   "cell_type": "code",
   "execution_count": 43,
   "metadata": {},
   "outputs": [],
   "source": [
    "gbtmodel=gbtpipeline.fit(train)\n",
    "gbtpredictions=gbtmodel.transform(test)"
   ]
  },
  {
   "cell_type": "code",
   "execution_count": 28,
   "metadata": {},
   "outputs": [
    {
     "name": "stdout",
     "output_type": "stream",
     "text": [
      "+-----+----------+-----+\n",
      "|label|prediction|count|\n",
      "+-----+----------+-----+\n",
      "|  1.0|       1.0| 6499|\n",
      "|  0.0|       1.0|   28|\n",
      "|  1.0|       0.0| 6332|\n",
      "|  0.0|       0.0|21164|\n",
      "+-----+----------+-----+\n",
      "\n",
      "accuracy: 0.813067630720395\n",
      "f1: 0.6714536625684472\n",
      "precision: 0.9957101271640877\n",
      "recall: 0.5065076767204427\n",
      "TP: 6499\n",
      "TN: 21164\n",
      "FP: 28\n",
      "FN: 6332\n"
     ]
    }
   ],
   "source": [
    "TN = gbtpredictions.filter('prediction = 0 AND label = 0').count()\n",
    "TP = gbtpredictions.filter('prediction = 1 AND label = 1').count()\n",
    "FN = gbtpredictions.filter('prediction = 0 AND label = 1').count()\n",
    "FP = gbtpredictions.filter('prediction = 1 AND label = 0').count()\n",
    "gbtpredictions.groupBy('label', 'prediction').count().show()\n",
    "accuracy = (TP + TN)/(TP + TN + FN +FP)\n",
    "precision = (TP )/(TP +FP)\n",
    "recall = (TP )/(TP +FN)\n",
    "f1 = (2/((1/recall) + (1/precision)))\n",
    "print('accuracy:',accuracy)\n",
    "print('f1:',f1)\n",
    "print('precision:',precision)\n",
    "print('recall:',recall)\n",
    "print('TP:',TP)\n",
    "print('TN:',TN)\n",
    "print('FP:',FP)\n",
    "print('FN:',FN)"
   ]
  },
  {
   "cell_type": "code",
   "execution_count": 41,
   "metadata": {},
   "outputs": [
    {
     "name": "stdout",
     "output_type": "stream",
     "text": [
      "Area Under ROC: 0.8708589821996727\n"
     ]
    },
    {
     "data": {
      "image/png": "[encoded data removed]",
      "text/plain": [
       "<Figure size 640x480 with 1 Axes>"
      ]
     },
     "metadata": {},
     "output_type": "display_data"
    }
   ],
   "source": [
    "evaluator = BinaryClassificationEvaluator(rawPredictionCol=\"rawPrediction\")\n",
    "print(\"Area Under ROC: \" + str(evaluator.evaluate(gbtpredictions, {evaluator.metricName: \"areaUnderROC\"})))\n",
    "pred=gbtpredictions.select(\"label\", \"probability\").toPandas()\n",
    "fpr,tpr,_=roc_curve(pred[\"label\"],pred[\"probability\"].apply(lambda y: y[1]))\n",
    "plt.plot(fpr,tpr)\n",
    "plt.title('XGBoost ROC Curve')\n",
    "plt.xlabel('FPR')\n",
    "plt.ylabel('TPR')\n",
    "plt.show()"
   ]
  },
  {
   "cell_type": "markdown",
   "metadata": {
    "id": "FPssgsgwOwzB"
   },
   "source": [
    "2.4.2 For both models(RF and GBT) and testing data, write code to display the count of TP/TN/FP/FN. Compute the AUC, accuracy, recall, and precision for the above-threshold/below-threshold label from each model testing result using pyspark MLlib/ML APIs.\n",
    "- Draw a ROC plot.\n",
    "- Discuss which one is the better model(no word limit, please keep it concise)"
   ]
  },
  {
   "cell_type": "markdown",
   "metadata": {},
   "source": [
    "We can compare the AUC, accuracy, recall, precision, and ROC curves of both models to determine which one performs better for your specific classification task. Random Forest has an AUC of 0.84 which is lower than XGboost. Also has lower scores of accuracy, recall, and precision. While XGboost has an AUC of 0.87 and performs much better. Also XGBoost is known for its computational efficiency and often trains faster than Random Forest. It also has an advantage due to its parallelization capabilities and hence is more scalable. For these reasons we choose XGboost."
   ]
  },
  {
   "cell_type": "markdown",
   "metadata": {
    "id": "qqG5NweDOwzB"
   },
   "source": [
    "2.4.3 Save the better model, we will need this for Part B of assignment 2.  \n",
    "(note: You may need to go through a few training loops or use more data to create a better-performing model.)"
   ]
  },
  {
   "cell_type": "code",
   "execution_count": 32,
   "metadata": {
    "id": "p8LcVJ2QOwzS"
   },
   "outputs": [],
   "source": [
    "gbtmodel.save(\"better2\")"
   ]
  },
  {
   "cell_type": "markdown",
   "metadata": {
    "id": "FMqKv4RhOwzT"
   },
   "source": [
    "### Part 3. Customer Segmentation and Knowledge sharing with K-Mean <a class=\"anchor\" name=\"part-3\"></a>  \n",
    "Please see the specification for this task and add code/markdown cells."
   ]
  },
  {
   "cell_type": "code",
   "execution_count": 33,
   "metadata": {},
   "outputs": [],
   "source": [
    "from pyspark.ml.clustering import KMeans\n",
    "from pyspark.ml.evaluation import ClusteringEvaluator"
   ]
  },
  {
   "cell_type": "code",
   "execution_count": 37,
   "metadata": {},
   "outputs": [],
   "source": [
    "kmean_data=transaction_df.select(\"session_id\",\"customer_id\").join(feature_df,\"session_id\",'inner')\n",
    "kmean_data=kmean_data.select('session_id','customer_id','age','season')\n",
    "cf=customer_df.join(kmean_data,\"customer_id\",'inner')\n",
    "cf2=cf.groupBy('customer_id','season','device_type','home_location').agg(F.avg('age').alias('age'))\n",
    "inputcols1=['season','device_type','home_location']\n",
    "outputcols1=['season_x','device_type_x','home_location_x']\n",
    "num=['age']\n",
    "indexer=StringIndexer(inputCols=inputcols1, outputCols=outputcols1)\n",
    "OHEcols=['season_OHE','device_type_OHE','home_location_OHE']\n",
    "encoder=OneHotEncoder(inputCols=outputcols1,outputCols=OHEcols)\n",
    "ai=OHEcols+num\n",
    "assembler=VectorAssembler(inputCols=ai,outputCol=\"features\")"
   ]
  },
  {
   "cell_type": "code",
   "execution_count": 38,
   "metadata": {},
   "outputs": [],
   "source": [
    "cf1 =cf2.sample(fraction=.2)"
   ]
  },
  {
   "cell_type": "code",
   "execution_count": 39,
   "metadata": {},
   "outputs": [
    {
     "name": "stdout",
     "output_type": "stream",
     "text": [
      "No of clusters: 2 Silhouette Score: 0.6871482581878334\n",
      "No of clusters: 3 Silhouette Score: 0.6468085872854336\n",
      "No of clusters: 4 Silhouette Score: 0.617043537570798\n",
      "No of clusters: 5 Silhouette Score: 0.5992944863831153\n",
      "No of clusters: 6 Silhouette Score: 0.5822526412467308\n",
      "No of clusters: 7 Silhouette Score: 0.5671303296679102\n",
      "No of clusters: 8 Silhouette Score: 0.5113672974582337\n",
      "No of clusters: 9 Silhouette Score: 0.4929274804598785\n"
     ]
    }
   ],
   "source": [
    "evaluator = ClusteringEvaluator()\n",
    "silhouette_arr=[]\n",
    "for k in range(2,10):\n",
    "    k_means= KMeans(featuresCol='features', k=k)\n",
    "    stages=[indexer,encoder,assembler,k_means]\n",
    "    kpipeline = Pipeline(stages=stages)\n",
    "    model = kpipeline.fit(cf1)\n",
    "    predictions = model.transform(cf1)\n",
    "    silhouette = evaluator.evaluate(predictions)\n",
    "    silhouette_arr.append(silhouette)\n",
    "    print('No of clusters:',k,'Silhouette Score:',silhouette)"
   ]
  },
  {
   "cell_type": "markdown",
   "metadata": {},
   "source": [
    "As we get the best silhouette scores for just two clusters, we will segment our customer base into two categories depending on the season, age, geographical location and OS preferences. By segmenting customers into these two clusters derived from the K-means model the retailer can enhance its marketing strategies. Cluster 1 should be approached with flexibility and variety. This cluster represents customers with a wide range of characteristics including varying geographical locations, device preferences, ages and seasons. For this group it is essential to adopt a versatile marketing approach. While Cluster 2 should receive personalized and highly targeted marketing initiatives. This group is ideal for a more focused marketing approach. To effectively engage with them the retailer should craft highly targeted marketing campaigns, product recommendations and promotions that align with their specific characteristics and preferences. Specialized loyalty programs, personalized product suggestions and exclusive offers that cater to the preferences and shopping habits of this cluster can drive higher conversion rates and customer retention. Continuously monitoring customer data and adjusting strategies based on evolving trends and preferences will be crucial for long-term success in both segments."
   ]
  },
  {
   "cell_type": "markdown",
   "metadata": {
    "id": "fdetpT4kOwzT"
   },
   "source": [
    "### Part 4: Data Ethics, Privacy, and Security <a class=\"anchor\" name=\"part-4\"></a>  \n",
    "Please see the specification for this task and add markdown cells(word limit: 500)."
   ]
  },
  {
   "cell_type": "markdown",
   "metadata": {
    "id": "E2UgrKhGOwzT"
   },
   "source": [
    "1. Data Ethics: Data ethics play a pivotal role in shaping the responsible use of big data. Ethical considerations include fairness, transparency, accountability and ensuring that data driven decisions benefit the society. Failure to uphold these principles can lead to negative consequences. For instance, the misuse of customer data by companies like Cambridge Analytica which exploited personal information for political purposes, highlighted the need for stricter ethical standards in big data processing. Positive examples of data ethics include companies that anonymize and aggregate customer data to protect individual privacy while still deriving valuable insights. Ethical data practices are not just a moral obligation but also contribute to building trust among customers and fostering long term relationships. Technological advancements should align with ethical responsibilities. As we develop more powerful data processing tools ethical considerations should guide their use while ensuring they are not exploited for unethical purposes. \n",
    "2. Data Privacy: Maintaining privacy in big data is difficult due to the huge volume of data collected and processed. Data privacy is important because individuals have a right to control their personal information. Regulations like the General Data Protection Regulation in the European Union state the importance of obtaining informed consent and  providing data access rights and notifying individuals about data breaches. To ensure privacy organizations should implement techniques like data anonymization and differential privacy. Improvements can include refining anonymization methods to protect against re-identification attacks and developing more user-friendly consent mechanisms.\n",
    "3. Data Security: Security is really important in big data processing. With large datasets there are increased security risks such as data breaches and cyberattacks. Measures like encryption and authentication are crucial for safeguarding data. Organizations should also implement intrusion detection systems and conduct regular security audits. The potential security risks associated with big data processing are quite diverse ranging from unauthorized access to data manipulation. These risks may lead to severe consequences like financial losses or damage to an organization's reputation."
   ]
  },
  {
   "cell_type": "markdown",
   "metadata": {},
   "source": [
    "Key Findings and Summary:\n",
    "1. Data ethics are essential in guiding the responsible use of big data, ensuring fairness, transparency and accountability. \n",
    "2. Privacy in big data is a complex issue that requires compliance with regulations like GDPR and the development of improved privacy preserving techniques.\n",
    "3. Data security measures such as encryption and access controls are critical for protecting against security risks. \n",
    "Ethical considerations should be integrated into technological advancements to prevent unethical use of data"
   ]
  },
  {
   "cell_type": "markdown",
   "metadata": {
    "id": "lAfpeRnvOwzU"
   },
   "source": [
    "## References:\n",
    "Please add your references below:"
   ]
  },
  {
   "cell_type": "markdown",
   "metadata": {
    "id": "DKE64iNBOwzU"
   },
   "source": [
    "1. Mittelstadt, B. D., Allo, P., Taddeo, M., Wachter, S., & Floridi, L. (2016). The ethics of algorithms: Mapping the debate. Big Data & Society, 3(2), 2053951716679679.\n",
    "2. Solove, D. J. (2006). A taxonomy of privacy. University of Pennsylvania Law Review, 154(3), 477-560.\n",
    "3. Choo, K. K. R. (2011). Cybersecurity: Managing systems, conducting testing, and investigating intrusions. Jones & Bartlett Learning.\n",
    "4. https://spark.apache.org/docs/latest/sql-data-sources-csv.html\n",
    "5. https://import-as.github.io/import/pyspark.sql.functions.html\n",
    "6. https://stackoverflow.com/questions/48282321/valueerror-cannot-convert-column-into-bool\n",
    "7. https://sparkbyexamples.com/pyspark/pyspark-printschema-example/\n",
    "8. https://sparkbyexamples.com/pyspark/pyspark-apply-function-to-column/\n",
    "9. https://sparkbyexamples.com/pyspark/pyspark-udf-user-defined-function/\n",
    "10. https://sparkbyexamples.com/pyspark/pyspark-where-filter/\n",
    "11. https://sparkbyexamples.com/pyspark/pyspark-current-date-timestamp/\n",
    "12. https://sparkbyexamples.com/pyspark/pyspark-isnull/#:~:text=PySpark%20isNotNull(),-pyspark.text=sql.-,Column.,is%20no%20equivalent%20in%20sql.\n",
    "13. https://www.machinelearningplus.com/pyspark/pyspark-statistics-deciles-and-quartiles/\n",
    "14. https://stackoverflow.com/questions/50793165/pyspark-how-are-dataframe-describe-and-summary-implemented/50794458#50794458\n",
    "15. https://www.kaggle.com/code/tientd95/advanced-pyspark-for-exploratory-data-analysis"
   ]
  }
 ],
 "metadata": {
  "colab": {
   "provenance": []
  },
  "kernelspec": {
   "display_name": "Python 3 (ipykernel)",
   "language": "python",
   "name": "python3"
  },
  "language_info": {
   "codemirror_mode": {
    "name": "ipython",
    "version": 3
   },
   "file_extension": ".py",
   "mimetype": "text/x-python",
   "name": "python",
   "nbconvert_exporter": "python",
   "pygments_lexer": "ipython3",
   "version": "3.10.11"
  }
 },
 "nbformat": 4,
 "nbformat_minor": 1
}
