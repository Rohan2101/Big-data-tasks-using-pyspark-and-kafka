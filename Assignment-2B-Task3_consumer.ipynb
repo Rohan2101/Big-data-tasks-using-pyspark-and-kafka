{
 "cells": [
  {
   "cell_type": "code",
   "execution_count": 1,
   "id": "66b4d40c",
   "metadata": {},
   "outputs": [],
   "source": [
    "import os\n",
    "from pyspark import SparkContext,SparkConf\n",
    "from pyspark.streaming import StreamingContext\n",
    "from pyspark.sql import Row, SparkSession\n",
    "from pyspark.sql.functions import regexp_extract\n",
    "import pyspark.sql.functions as F\n",
    "from kafka3 import KafkaConsumer"
   ]
  },
  {
   "cell_type": "code",
   "execution_count": 2,
   "id": "63a243b5",
   "metadata": {},
   "outputs": [],
   "source": [
    "os.environ['PYSPARK_SUBMIT_ARGS'] = '--packages org.apache.spark:spark-streaming-kafka-0-10_2.12:3.4.0,org.apache.spark:spark-sql-kafka-0-10_2.12:3.4.0 pyspark-shell'\n",
    "spark = SparkSession \\\n",
    "    .builder \\\n",
    "    .appName(\"rsin0045\") \\\n",
    "    .getOrCreate()"
   ]
  },
  {
   "cell_type": "code",
   "execution_count": 4,
   "id": "a528fc5f",
   "metadata": {},
   "outputs": [],
   "source": [
    "hostip = \"192.168.0.140:9092\"\n",
    "topic = \"prediction\""
   ]
  },
  {
   "cell_type": "code",
   "execution_count": null,
   "id": "4524d26e",
   "metadata": {},
   "outputs": [],
   "source": [
    "consumer = KafkaConsumer(topic,bootstrap_servers=hostip,auto_offset_reset='earliest', value_deserializer=lambda z: z.decode('utf-8'))"
   ]
  },
  {
   "cell_type": "code",
   "execution_count": 15,
   "id": "47df33cf",
   "metadata": {},
   "outputs": [],
   "source": [
    "df = spark \\\n",
    "    .readStream \\\n",
    "    .format(\"kafka\") \\\n",
    "    .option(\"kafka.bootstrap.servers\", hostip) \\\n",
    "    .option(\"subscribe\", topic) \\\n",
    "    .load()"
   ]
  },
  {
   "cell_type": "code",
   "execution_count": 16,
   "id": "b8b4015c",
   "metadata": {},
   "outputs": [
    {
     "name": "stdout",
     "output_type": "stream",
     "text": [
      "root\n",
      " |-- key: binary (nullable = true)\n",
      " |-- value: binary (nullable = true)\n",
      " |-- topic: string (nullable = true)\n",
      " |-- partition: integer (nullable = true)\n",
      " |-- offset: long (nullable = true)\n",
      " |-- timestamp: timestamp (nullable = true)\n",
      " |-- timestampType: integer (nullable = true)\n",
      "\n"
     ]
    }
   ],
   "source": [
    "df.printSchema()"
   ]
  },
  {
   "cell_type": "code",
   "execution_count": 17,
   "id": "7d29c2c9",
   "metadata": {},
   "outputs": [],
   "source": [
    "df = df.selectExpr(\"CAST(value AS STRING)\")"
   ]
  },
  {
   "cell_type": "code",
   "execution_count": 18,
   "id": "ec290382",
   "metadata": {},
   "outputs": [],
   "source": [
    "from pyspark.sql.types import StructType, StructField, StringType, IntegerType, FloatType, TimestampType\n",
    "schema = StructType([\n",
    "    StructField('ts', TimestampType(), True),\n",
    "    StructField('value', IntegerType(), True)          \n",
    "])"
   ]
  },
  {
   "cell_type": "code",
   "execution_count": 19,
   "id": "9c713078",
   "metadata": {},
   "outputs": [],
   "source": [
    "df=df.select(F.from_json(F.col(\"value\").cast(\"string\"), schema).alias('parsed_value'))"
   ]
  },
  {
   "cell_type": "code",
   "execution_count": 20,
   "id": "7eba044c",
   "metadata": {},
   "outputs": [],
   "source": [
    "df_formatted = df.select(\n",
    "                    F.col(\"parsed_value.ts\").alias(\"ts\"),\n",
    "                    F.col(\"parsed_value.value\").alias(\"value\")\n",
    "                )"
   ]
  },
  {
   "cell_type": "code",
   "execution_count": 21,
   "id": "d434130b",
   "metadata": {},
   "outputs": [],
   "source": [
    "query_all = df_formatted \\\n",
    "    .writeStream \\\n",
    "    .outputMode(\"append\") \\\n",
    "    .format(\"console\") \\\n",
    "    .queryName(\"allvalues\") \\\n",
    "    .trigger(processingTime='5 seconds') \\\n",
    "    .start()"
   ]
  },
  {
   "cell_type": "code",
   "execution_count": 22,
   "id": "5a76381d",
   "metadata": {},
   "outputs": [],
   "source": [
    "query_all.stop()"
   ]
  },
  {
   "cell_type": "code",
   "execution_count": 26,
   "id": "62903415",
   "metadata": {},
   "outputs": [],
   "source": [
    "def init_plots():\n",
    "    try:\n",
    "        width = 9.5\n",
    "        height = 6\n",
    "        fig = plt.figure(figsize=(width,height)) # create new figure\n",
    "        fig.subplots_adjust(hspace=0.8)\n",
    "        ax = fig.add_subplot(111) # adding the subplot axes to the given grid position\n",
    "        ax.set_xlabel('Time')\n",
    "        ax.set_ylabel('Sales')\n",
    "        ax.title.set_text('Time Vs Sales')\n",
    "        fig.suptitle('Time Vs Sales visualization') # giving figure a title\n",
    "        fig.show() \n",
    "        fig.canvas.draw() \n",
    "        return fig, ax\n",
    "    except Exception as ex:\n",
    "        print(str(ex))"
   ]
  },
  {
   "cell_type": "code",
   "execution_count": 28,
   "id": "2684522a",
   "metadata": {},
   "outputs": [],
   "source": [
    "import time\n",
    "import matplotlib.pyplot as plt\n",
    "%matplotlib notebook\n",
    "fig, ax = init_plots()\n",
    "while True:\n",
    "    df_all = spark.sql(\"select * from all_values order by ts desc limit 90\").toPandas()\n",
    "    # Get starting timestamp to plot both graphs\n",
    "    start_time = df_all['ts'][len(df_all)-1]\n",
    "    df_reduced = df\n",
    "    x_all = df_all['ts'].to_list()\n",
    "    y_all = df_all['prediction'].to_list()\n",
    "    x_reduced = df_reduced['time'].to_list()\n",
    "    y_reduced = df_reduced['prediction'].to_list()\n",
    "    ax.clear()\n",
    "    ax.plot(x_all, y_all, '-b', label='Original')\n",
    "    ax.plot(x_reduced, y_reduced, '--r', label='Reduced')\n",
    "    ax.set_xlabel('Time')\n",
    "    ax.set_ylabel('prediction')\n",
    "    leg = ax.legend()\n",
    "    fig.canvas.draw()\n",
    "    time.sleep(5)"
   ]
  },
  {
   "cell_type": "code",
   "execution_count": null,
   "id": "f68e5525",
   "metadata": {},
   "outputs": [],
   "source": []
  }
 ],
 "metadata": {
  "kernelspec": {
   "display_name": "Python 3 (ipykernel)",
   "language": "python",
   "name": "python3"
  },
  "language_info": {
   "codemirror_mode": {
    "name": "ipython",
    "version": 3
   },
   "file_extension": ".py",
   "mimetype": "text/x-python",
   "name": "python",
   "nbconvert_exporter": "python",
   "pygments_lexer": "ipython3",
   "version": "3.10.11"
  }
 },
 "nbformat": 4,
 "nbformat_minor": 5
}
