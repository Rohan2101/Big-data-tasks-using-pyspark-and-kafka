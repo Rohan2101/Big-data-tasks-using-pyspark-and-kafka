{
  "cells": [
    {
      "cell_type": "markdown",
      "metadata": {
        "id": "WgdgPiS-N4sx"
      },
      "source": [
        "# FIT5202 Assignment 1 : Analysing eCommerce Data\n",
        "\n",
        "## Table of Contents\n",
        "*\n",
        "    * [Part 1 : Working with RDD](#part-1)\n",
        "        * [1.1 Data Preparation and Loading](#1.1)\n",
        "        * [1.2 Data Partitioning in RDD](#1.2)\n",
        "        * [1.3 Query/Analysis](#1.3)\n",
        "    * [Part 2 : Working with DataFrames](#2-dataframes)\n",
        "        * [2.1 Data Preparation and Loading](#2-dataframes)\n",
        "        * [2.2 Query/Analysis](#2.2)\n",
        "    * [Part 3 :  RDDs vs DataFrame vs Spark SQL](#part-3)"
      ]
    },
    {
      "cell_type": "markdown",
      "metadata": {
        "id": "cJiUT9CUN4s1"
      },
      "source": [
        "# Part 1 : Working with RDDs <a class=\"anchor\" name=\"part-1\"></a>\n",
        "## 1.1 Working with RDD\n",
        "In this section, you will need to create RDDs from the given datasets, perform partitioning in these RDDs and use various RDD operations to answer the queries for retail analysis.\n",
        "\n",
        "### 1.1.1 Data Preparation and Loading <a class=\"anchor\" name=\"1.1\"></a>\n",
        "Write the code to create a SparkContext object using SparkSession. To create a SparkSession you first need to build a SparkConf object that contains information about your application, use Melbourne time as the session timezone. Give an appropriate name for your application and run Spark locally with as many working processors as logical cores on your machine."
      ]
    },
    {
      "cell_type": "code",
      "source": [
        "pip install pyspark"
      ],
      "metadata": {
        "colab": {
          "base_uri": "https://localhost:8080/",
          "height": 0
        },
        "id": "OetMS0sgOaoN",
        "outputId": "b5497e73-da3f-409a-8ed6-216abddb2b86"
      },
      "execution_count": 125,
      "outputs": [
        {
          "output_type": "stream",
          "name": "stdout",
          "text": [
            "Requirement already satisfied: pyspark in /usr/local/lib/python3.10/dist-packages (3.4.1)\n",
            "Requirement already satisfied: py4j==0.10.9.7 in /usr/local/lib/python3.10/dist-packages (from pyspark) (0.10.9.7)\n"
          ]
        }
      ]
    },
    {
      "cell_type": "code",
      "source": [
        "from google.colab import drive\n",
        "drive.mount('/content/drive')"
      ],
      "metadata": {
        "colab": {
          "base_uri": "https://localhost:8080/",
          "height": 0
        },
        "id": "KHnOmuhKbq5E",
        "outputId": "c9df3046-7e39-4c0e-ae3e-3d01fee3cffb"
      },
      "execution_count": 126,
      "outputs": [
        {
          "output_type": "stream",
          "name": "stdout",
          "text": [
            "Drive already mounted at /content/drive; to attempt to forcibly remount, call drive.mount(\"/content/drive\", force_remount=True).\n"
          ]
        }
      ]
    },
    {
      "cell_type": "code",
      "execution_count": 224,
      "metadata": {
        "id": "8A8P8_tuN4s2"
      },
      "outputs": [],
      "source": [
        "from pyspark.conf import SparkConf\n",
        "from pyspark.sql import SparkSession\n",
        "\n",
        "\n",
        "master = \"local[*]\"\n",
        "app_name = \"Assignment 1\"\n",
        "\n",
        "spark_conf = SparkConf() \\\n",
        "    .setAppName(app_name).setMaster(master)\n",
        "spark = SparkSession.builder \\\n",
        "    .config(conf=spark_conf) \\\n",
        "    .getOrCreate()\n",
        "\n",
        "spark.conf.set(\"spark.sql.session.timeZone\", \"Australia/Melbourne\")\n",
        "\n",
        "sc = spark.sparkContext\n",
        "sc.setLogLevel('ERROR')"
      ]
    },
    {
      "cell_type": "code",
      "source": [
        "catt = '/content/drive/MyDrive/category.csv'\n",
        "prod = '/content/drive/MyDrive/product.csv'\n",
        "sales = '/content/drive/MyDrive/sales.csv'\n",
        "user = '/content/drive/MyDrive/users.csv'"
      ],
      "metadata": {
        "id": "mE4NplDacMzH"
      },
      "execution_count": 128,
      "outputs": []
    },
    {
      "cell_type": "markdown",
      "metadata": {
        "id": "7et-WNxmN4s3"
      },
      "source": [
        "1.1.2 Load CUPS csv files into four RDDs."
      ]
    },
    {
      "cell_type": "code",
      "execution_count": 221,
      "metadata": {
        "colab": {
          "base_uri": "https://localhost:8080/",
          "height": 0
        },
        "id": "84L2e01eN4s4",
        "outputId": "11cbc1c4-ba67-4fb4-962d-7e538b797ac2"
      },
      "outputs": [
        {
          "output_type": "stream",
          "name": "stdout",
          "text": [
            "RDD 1:\n",
            "['user_id,firstname,lastname,dob,address,postcode,state,sex,suburb', '514771925,MERVYN,Unknown,1-5-1963,30A LUCINDA AVENUE,2260,NSW,male,WAMBERAL', '531947692,FALLON,Unknown,16-10-2002,82 CAMBERWARRA DRIVE,6025,WA,female,CRAIGIE', '560231306,KALIN,Unknown,19-8-2015,74 SOLDIERS ROAD,2281,NSW,male,PELICAN', '575248835,PIETTA,Unknown,19-1-1962,\"UNIT 1, 1 LARK AVENUE\",5023,SA,female,SEATON']\n",
            "RDD 2:\n",
            "['id,sales_timestamp,product_id,price,user_id,user_session', '338156802,2020-03-27 02:03:48.000000 +00:00,4804056,171.56,513119357,0ad58441-9db9-48bd-9ee7-accf603f06e0', '338156808,2020-03-27 02:03:49.000000 +00:00,1005223,209.53,522277649,2ecb2725-2c40-4acb-8ef1-05e39ea4c2cc', '338156913,2020-03-27 02:04:11.000000 +00:00,1005212,174.25,632847510,43609582-1818-4885-bd72-3791f3a4ec93', '338156921,2020-03-27 02:04:13.000000 +00:00,1005236,231.15,626579483,bbf972ef-8f8d-4a33-bcbd-ac09af67ea40']\n",
            "RDD 3:\n",
            "['category_id,category_code', '2090971686529663114,appliances.environment.vacuum', '2232732116498514828,apparel.jeans', '2232732109628244704,apparel.shirt', '2232732103294845523,apparel.shoes.step_ins']\n",
            "RDD 4:\n",
            "['product_id,category_id,brand,avg_cost', '100168127,2053013554096767303,,30.8171196068388', '7101887,2232732103764607583,,33.6457534471799', '100058603,2053013555438944659,,32.1982006550096', '100007811,2232732112782361392,etro,300.111251624047']\n"
          ]
        }
      ],
      "source": [
        "rdd1 = sc.textFile(user)\n",
        "rdd2 = sc.textFile(sales)\n",
        "rdd3 = sc.textFile(catt)\n",
        "rdd4 = sc.textFile(prod)\n",
        "\n",
        "print(\"RDD 1:\")\n",
        "print(rdd1.take(5))\n",
        "\n",
        "print(\"RDD 2:\")\n",
        "print(rdd2.take(5))\n",
        "\n",
        "print(\"RDD 3:\")\n",
        "print(rdd3.take(5))\n",
        "\n",
        "print(\"RDD 4:\")\n",
        "print(rdd4.take(5))"
      ]
    },
    {
      "cell_type": "markdown",
      "metadata": {
        "id": "4P0m9VGxN4s4"
      },
      "source": [
        "1.1.3 For each RDD, remove the header rows and display the total count and first 10 records. (Hint: You can use csv.reader to parse rows into RDDs.)"
      ]
    },
    {
      "cell_type": "code",
      "execution_count": 222,
      "metadata": {
        "colab": {
          "base_uri": "https://localhost:8080/",
          "height": 0
        },
        "id": "MvMuZByeN4s5",
        "outputId": "8a64e4e3-07f2-4eb7-f5e2-f6640033a965"
      },
      "outputs": [
        {
          "output_type": "stream",
          "name": "stdout",
          "text": [
            "RDD 1:\n",
            "Total Count: 15639803\n",
            "First 10 Records: ['514771925,MERVYN,Unknown,1-5-1963,30A LUCINDA AVENUE,2260,NSW,male,WAMBERAL', '531947692,FALLON,Unknown,16-10-2002,82 CAMBERWARRA DRIVE,6025,WA,female,CRAIGIE', '560231306,KALIN,Unknown,19-8-2015,74 SOLDIERS ROAD,2281,NSW,male,PELICAN', '575248835,PIETTA,Unknown,19-1-1962,\"UNIT 1, 1 LARK AVENUE\",5023,SA,female,SEATON', '575243330,SUMMAH,Unknown,19-4-1973,44 CLARENDON ROAD,2048,NSW,female,STANMORE', '516606243,KEIRA,Unknown,9-6-2011,1 VIOLA CLOSE,4868,QLD,female,BAYVIEW HEIGHTS', '545807768,VERITY,Unknown,1-2-1980,31-33 KING STREET,3550,VIC,female,BENDIGO', '529118965,MAXWELL,Unknown,16-5-2012,15 HARWELL WAY,6721,WA,male,WEDGEFIELD', '518625399,NATASHIA,Unknown,5-6-1973,\"UNIT 3, 17 BOX STREET\",6530,WA,female,WEBBERTON', '518273873,JUSTINE,Unknown,27-8-2007,\"UNIT 909, 112 GODERICH STREET\",6004,WA,male,EAST PERTH']\n"
          ]
        }
      ],
      "source": [
        "def remove_header(index, iterator):\n",
        "    if index == 0:\n",
        "        next(iterator)  # Skip the header row\n",
        "    return iterator\n",
        "\n",
        "\n",
        "rdd11 = rdd1.mapPartitions(lambda x: csv.reader(x))\n",
        "# Apply the remove_header function to each RDD\n",
        "rdd1_no_header = rdd1.mapPartitionsWithIndex(remove_header)\n",
        "rdd2_no_header = rdd2.mapPartitionsWithIndex(remove_header)\n",
        "rdd3_no_header = rdd3.mapPartitionsWithIndex(remove_header)\n",
        "rdd4_no_header = rdd4.mapPartitionsWithIndex(remove_header)\n",
        "print(\"RDD 1:\")\n",
        "print(\"Total Count:\", rdd1_no_header.count())\n",
        "print(\"First 10 Records:\", rdd1_no_header.take(10))"
      ]
    },
    {
      "cell_type": "code",
      "source": [
        "print(\"RDD 2:\")\n",
        "print(\"Total Count:\", rdd2_no_header.count())\n",
        "print(\"First 10 Records:\", rdd2_no_header.take(10))"
      ],
      "metadata": {
        "colab": {
          "base_uri": "https://localhost:8080/",
          "height": 0
        },
        "id": "vOmEFTixg09i",
        "outputId": "8c060a3b-7416-4ada-9c14-1d56d2b41829"
      },
      "execution_count": 223,
      "outputs": [
        {
          "output_type": "stream",
          "name": "stdout",
          "text": [
            "RDD 2:\n",
            "Total Count: 6848824\n",
            "First 10 Records: ['338156802,2020-03-27 02:03:48.000000 +00:00,4804056,171.56,513119357,0ad58441-9db9-48bd-9ee7-accf603f06e0', '338156808,2020-03-27 02:03:49.000000 +00:00,1005223,209.53,522277649,2ecb2725-2c40-4acb-8ef1-05e39ea4c2cc', '338156913,2020-03-27 02:04:11.000000 +00:00,1005212,174.25,632847510,43609582-1818-4885-bd72-3791f3a4ec93', '338156921,2020-03-27 02:04:13.000000 +00:00,1005236,231.15,626579483,bbf972ef-8f8d-4a33-bcbd-ac09af67ea40', '338156953,2020-03-27 02:04:18.000000 +00:00,1005212,174.25,633245502,90166e0d-d7da-4997-b479-bc3a0fd724d6', '338156985,2020-03-27 02:04:24.000000 +00:00,100132156,47.5,541680528,4cd111cc-8716-4720-b7e3-bc3c8ddce98f', '338157055,2020-03-27 02:04:37.000000 +00:00,3500009,290.84,618162129,d0bda424-a759-4941-b9be-5091c28009db', '338157122,2020-03-27 02:04:48.000000 +00:00,2300214,386.08,626601722,ce913646-936a-4b2e-b6bb-9f6e0d781bc5', '338157141,2020-03-27 02:04:52.000000 +00:00,100070443,35.01,604369152,fd55e2cd-dc42-4bf9-a0a1-f207f1c66e5d', '338157271,2020-03-27 02:05:14.000000 +00:00,1306659,431.09,616395888,a934f0d6-5fa6-475d-83df-528364fc8c31']\n"
          ]
        }
      ]
    },
    {
      "cell_type": "code",
      "source": [
        "print(\"RDD 3:\")\n",
        "print(\"Total Count:\", rdd3_no_header.count())\n",
        "print(\"First 10 Records:\", rdd3_no_header.take(10))"
      ],
      "metadata": {
        "colab": {
          "base_uri": "https://localhost:8080/",
          "height": 0
        },
        "id": "5Z9zHhHug1GR",
        "outputId": "ad02ebe9-5f8f-49f2-ed91-ca19ed3bf26b"
      },
      "execution_count": 225,
      "outputs": [
        {
          "output_type": "stream",
          "name": "stdout",
          "text": [
            "RDD 3:\n",
            "Total Count: 1464\n",
            "First 10 Records: ['2090971686529663114,appliances.environment.vacuum', '2232732116498514828,apparel.jeans', '2232732109628244704,apparel.shirt', '2232732103294845523,apparel.shoes.step_ins', '2232732086500851925,apparel.scarf', '2232732100660822557,country_yard.cultivator', '2053013558282682943,construction.tools.drill', '2053013562527318829,furniture.living_room.cabinet', '2110937143172923797,construction.tools.light', '2074462942123786261,kids.toys']\n"
          ]
        }
      ]
    },
    {
      "cell_type": "code",
      "source": [
        "print(\"RDD 4:\")\n",
        "print(\"Total Count:\", rdd4_no_header.count())\n",
        "print(\"First 10 Records:\", rdd4_no_header.take(10))"
      ],
      "metadata": {
        "colab": {
          "base_uri": "https://localhost:8080/",
          "height": 0
        },
        "id": "E3dlpH8Ig1Ol",
        "outputId": "478ea10a-1d91-4dde-a75f-7a402602aec5"
      },
      "execution_count": 226,
      "outputs": [
        {
          "output_type": "stream",
          "name": "stdout",
          "text": [
            "RDD 4:\n",
            "Total Count: 208290\n",
            "First 10 Records: ['100168127,2053013554096767303,,30.8171196068388', '7101887,2232732103764607583,,33.6457534471799', '100058603,2053013555438944659,,32.1982006550096', '100007811,2232732112782361392,etro,300.111251624047', '26400508,2053013553056579841,,139.458912588293', '100215722,2134905019189691101,,4.15035271832127', '32402016,2232732115777094520,,5.90104832419485', '13201248,2232732061804790604,brw,400.468187201711', '2701879,2053013563911439225,beko,249.969115457257', '15300266,2232732107698864813,,2.85509519214549']\n"
          ]
        }
      ]
    },
    {
      "cell_type": "markdown",
      "metadata": {
        "id": "Q3ThJkYEN4s5"
      },
      "source": [
        "1.1.4 Drop unnecessary columns from RDDs: firstname, lastname, user_session."
      ]
    },
    {
      "cell_type": "code",
      "source": [
        "rdd1_new = rdd1_no_header.map(lambda x: x.split(\",\"))\n",
        "rdd2_new = rdd2_no_header.map(lambda x: x.split(\",\"))"
      ],
      "metadata": {
        "id": "Tm3g3GxxHdYV"
      },
      "execution_count": 227,
      "outputs": []
    },
    {
      "cell_type": "code",
      "execution_count": 335,
      "metadata": {
        "id": "D3AJk4z8N4s6"
      },
      "outputs": [],
      "source": [
        "def make_ness_col(x):\n",
        "  fields = x\n",
        "  field = [fields[0],fields[3],fields[4],fields[5],fields[6],fields[7],fields[8]]\n",
        "  return field\n",
        "rdd1_filtered = rdd1_new.map(make_ness_col)\n",
        "\n",
        "def make_ness_col2(x1):\n",
        "  fields = x1\n",
        "  field = [fields[0],fields[1],fields[2],fields[3],fields[4]]\n",
        "  return field\n",
        "rdd2_filtered = rdd2_new.map(make_ness_col2)\n",
        "\n",
        "\n"
      ]
    },
    {
      "cell_type": "markdown",
      "metadata": {
        "id": "EZ-U1OaMN4s6"
      },
      "source": [
        "### 1.2 Data Partitioning in RDD <a class=\"anchor\" name=\"1.2\"></a>\n",
        "1.2.1 For each RDD, print out the total number of partitions and the number of records in each partition. Answer the following questions: How many partitions do the above RDDs have? How is the data in these RDDs partitioned by default, when we do not explicitly specify any partitioning strategy? Can you explain why it will be partitioned in this number? If I only have one single core CPU in my PC, what is the default partition's number? (Hint: search the Spark source code to try to answer this question.) Write code and your explanation in Markdown cells."
      ]
    },
    {
      "cell_type": "code",
      "source": [
        "def print_partition_info(ind, it):\n",
        "    count = 0\n",
        "    for _ in it:\n",
        "        count += 1\n",
        "    yield ind, count\n",
        "\n",
        "partition_info = rdd1_filtered.mapPartitionsWithIndex(print_partition_info).collect()"
      ],
      "metadata": {
        "id": "ABhlYdOvUDjB"
      },
      "execution_count": 229,
      "outputs": []
    },
    {
      "cell_type": "code",
      "source": [
        "print(\"Number of partitions in rdd1:\")\n",
        "rdd1_filtered.getNumPartitions()"
      ],
      "metadata": {
        "colab": {
          "base_uri": "https://localhost:8080/",
          "height": 0
        },
        "id": "JUUYXKNtVk83",
        "outputId": "2754b64e-7e3e-4fda-f9ab-728f0b3915e4"
      },
      "execution_count": 233,
      "outputs": [
        {
          "output_type": "stream",
          "name": "stdout",
          "text": [
            "Number of partitions in rdd1:\n"
          ]
        },
        {
          "output_type": "execute_result",
          "data": {
            "text/plain": [
              "39"
            ]
          },
          "metadata": {},
          "execution_count": 233
        }
      ]
    },
    {
      "cell_type": "code",
      "source": [
        "print(\"Number of partitions in rdd2:\")\n",
        "rdd2_filtered.getNumPartitions()"
      ],
      "metadata": {
        "colab": {
          "base_uri": "https://localhost:8080/",
          "height": 0
        },
        "id": "ZczDvn1rYidi",
        "outputId": "52159bec-8329-4c5b-c9bc-7bbd4a4a945e"
      },
      "execution_count": 234,
      "outputs": [
        {
          "output_type": "stream",
          "name": "stdout",
          "text": [
            "Number of partitions in rdd2:\n"
          ]
        },
        {
          "output_type": "execute_result",
          "data": {
            "text/plain": [
              "22"
            ]
          },
          "metadata": {},
          "execution_count": 234
        }
      ]
    },
    {
      "cell_type": "code",
      "source": [
        "print(\"Number of partitions in rdd3:\")\n",
        "rdd3_no_header.getNumPartitions()"
      ],
      "metadata": {
        "colab": {
          "base_uri": "https://localhost:8080/",
          "height": 0
        },
        "id": "Ik8HSvt9Yigr",
        "outputId": "7b2c9e34-05bb-4b43-aeed-322522fe76e0"
      },
      "execution_count": 235,
      "outputs": [
        {
          "output_type": "stream",
          "name": "stdout",
          "text": [
            "Number of partitions in rdd3:\n"
          ]
        },
        {
          "output_type": "execute_result",
          "data": {
            "text/plain": [
              "2"
            ]
          },
          "metadata": {},
          "execution_count": 235
        }
      ]
    },
    {
      "cell_type": "code",
      "source": [
        "print(\"Number of partitions in rdd4:\")\n",
        "rdd4_no_header.getNumPartitions()"
      ],
      "metadata": {
        "colab": {
          "base_uri": "https://localhost:8080/",
          "height": 0
        },
        "id": "89LygDzDYipk",
        "outputId": "942da283-b34d-4472-d344-6d15901833dc"
      },
      "execution_count": 236,
      "outputs": [
        {
          "output_type": "stream",
          "name": "stdout",
          "text": [
            "Number of partitions in rdd4:\n"
          ]
        },
        {
          "output_type": "execute_result",
          "data": {
            "text/plain": [
              "2"
            ]
          },
          "metadata": {},
          "execution_count": 236
        }
      ]
    },
    {
      "cell_type": "markdown",
      "source": [
        " How is the data in these RDDs partitioned by default, when we do not explicitly specify any partitioning strategy?\n",
        " By default when data is loaded into the RDDs it uses default partitioning strategy based on the number of available cores in the cluster. If do not specify a partitioning count then spark tries to infer the number of partitions based on the clusters resources."
      ],
      "metadata": {
        "id": "OVkvQ1R6vOlV"
      }
    },
    {
      "cell_type": "markdown",
      "source": [
        " Can you explain why it will be partitioned in this number?\n",
        " The default partitioning strategy aims to achieve a balance between parallelism and resource utilization. Spark tries to assign a reasonable number of partitions to fully utlilize the available cores while also avoiding excessive overhead due to having too many tiny partitions.\n"
      ],
      "metadata": {
        "id": "XtpI2tuyxyww"
      }
    },
    {
      "cell_type": "markdown",
      "source": [
        " If I only have one single core CPU in my PC, what is the default partition's number?\n",
        " In this case spark will usually create only one partition. However it might also sometimes try create mltiple partitions even for a single core setp to ensure that the tasks are distributed and executed efficiently. This happens due to the way spark's partitioning is designed."
      ],
      "metadata": {
        "id": "NkZVKRH0xy5Q"
      }
    },
    {
      "cell_type": "code",
      "execution_count": 241,
      "metadata": {
        "id": "lFS7jGD8N4s7",
        "colab": {
          "base_uri": "https://localhost:8080/",
          "height": 0
        },
        "outputId": "5465b550-c671-45d0-90c3-718fca3f3b2c"
      },
      "outputs": [
        {
          "output_type": "stream",
          "name": "stdout",
          "text": [
            "RDD 1 Partitions: 39\n",
            "Partition 0: 407684 records\n",
            "Partition 1: 407751 records\n",
            "Partition 2: 407663 records\n",
            "Partition 3: 407640 records\n",
            "Partition 4: 407740 records\n",
            "Partition 5: 407698 records\n",
            "Partition 6: 407764 records\n",
            "Partition 7: 407723 records\n",
            "Partition 8: 407732 records\n",
            "Partition 9: 407782 records\n",
            "Partition 10: 407851 records\n",
            "Partition 11: 407787 records\n",
            "Partition 12: 407659 records\n",
            "Partition 13: 407782 records\n",
            "Partition 14: 407827 records\n",
            "Partition 15: 407766 records\n",
            "Partition 16: 407888 records\n",
            "Partition 17: 407701 records\n",
            "Partition 18: 407788 records\n",
            "Partition 19: 407748 records\n",
            "Partition 20: 407745 records\n",
            "Partition 21: 407862 records\n",
            "Partition 22: 407724 records\n",
            "Partition 23: 407781 records\n",
            "Partition 24: 407785 records\n",
            "Partition 25: 407745 records\n",
            "Partition 26: 407680 records\n",
            "Partition 27: 407655 records\n",
            "Partition 28: 407691 records\n",
            "Partition 29: 407780 records\n",
            "Partition 30: 407737 records\n",
            "Partition 31: 407740 records\n",
            "Partition 32: 407693 records\n",
            "Partition 33: 407728 records\n",
            "Partition 34: 407713 records\n",
            "Partition 35: 407799 records\n",
            "Partition 36: 407740 records\n",
            "Partition 37: 407682 records\n",
            "Partition 38: 145549 records\n",
            "RDD 2 Partitions: 22\n",
            "Partition 0: 315832 records\n",
            "Partition 1: 315940 records\n",
            "Partition 2: 316009 records\n",
            "Partition 3: 319748 records\n",
            "Partition 4: 319808 records\n",
            "Partition 5: 319827 records\n",
            "Partition 6: 319861 records\n",
            "Partition 7: 319855 records\n",
            "Partition 8: 317174 records\n",
            "Partition 9: 316760 records\n",
            "Partition 10: 316656 records\n",
            "Partition 11: 316733 records\n",
            "Partition 12: 316682 records\n",
            "Partition 13: 316607 records\n",
            "Partition 14: 316439 records\n",
            "Partition 15: 316229 records\n",
            "Partition 16: 316253 records\n",
            "Partition 17: 316229 records\n",
            "Partition 18: 316133 records\n",
            "Partition 19: 316127 records\n",
            "Partition 20: 316023 records\n",
            "Partition 21: 187899 records\n",
            "RDD 3 Partitions: 2\n",
            "Partition 0: 647 records\n",
            "Partition 1: 817 records\n",
            "RDD 4 Partitions: 2\n",
            "Partition 0: 104192 records\n",
            "Partition 1: 104098 records\n"
          ]
        }
      ],
      "source": [
        "def print_partition_info(ind, it):\n",
        "    c = 0\n",
        "    for _ in it:\n",
        "        c += 1\n",
        "    yield ind, c\n",
        "\n",
        "def print_partition_stats(rdd, name):\n",
        "    partition_info = rdd.mapPartitionsWithIndex(print_partition_info).collect()\n",
        "    print(f\"{name} Partitions:\", len(partition_info))\n",
        "    for partition, count in partition_info:\n",
        "        print(f\"Partition {partition}: {count} records\")\n",
        "\n",
        "print_partition_stats(rdd1_filtered, \"RDD 1\")\n",
        "print_partition_stats(rdd2_filtered, \"RDD 2\")\n",
        "print_partition_stats(rdd3_no_header, \"RDD 3\")\n",
        "print_partition_stats(rdd4_no_header, \"RDD 4\")"
      ]
    },
    {
      "cell_type": "markdown",
      "metadata": {
        "id": "LZj_C65SN4s8"
      },
      "source": [
        "1.2.2. Create a user defined function (UDF) to transform category_code to capitalized words. (e.g. apparel.shoes.ballet_shoes shall be converted to “Apparel Shots Ballet_shoes)."
      ]
    },
    {
      "cell_type": "code",
      "execution_count": 242,
      "metadata": {
        "id": "P6u8-DTyN4s8",
        "colab": {
          "base_uri": "https://localhost:8080/",
          "height": 0
        },
        "outputId": "b91e8ddc-2aa1-4961-deb9-62a29a580dbb"
      },
      "outputs": [
        {
          "output_type": "execute_result",
          "data": {
            "text/plain": [
              "['2090971686529663114,appliances.environment.vacuum',\n",
              " '2232732116498514828,apparel.jeans',\n",
              " '2232732109628244704,apparel.shirt',\n",
              " '2232732103294845523,apparel.shoes.step_ins',\n",
              " '2232732086500851925,apparel.scarf']"
            ]
          },
          "metadata": {},
          "execution_count": 242
        }
      ],
      "source": [
        "rdd3_no_header.take(5)"
      ]
    },
    {
      "cell_type": "code",
      "source": [
        "def transform_category_code(x):\n",
        "    x1 = x.split(\",\")\n",
        "    words = x1[1].split('.')\n",
        "    capitalized_words = [word.capitalize() for word in words]\n",
        "    ww = [x1[0],'.'.join(capitalized_words)]\n",
        "    return \",\".join(ww)"
      ],
      "metadata": {
        "id": "RFD9E16zhAHd"
      },
      "execution_count": 336,
      "outputs": []
    },
    {
      "cell_type": "code",
      "source": [
        "\n",
        "rdd3_filter = rdd3_no_header.map(transform_category_code)\n",
        "rdd3_filter.take(5)\n"
      ],
      "metadata": {
        "colab": {
          "base_uri": "https://localhost:8080/",
          "height": 0
        },
        "id": "ATxu4W-RhAKp",
        "outputId": "5123d6da-7428-430a-eb99-8b0f4e81cd0b"
      },
      "execution_count": 337,
      "outputs": [
        {
          "output_type": "execute_result",
          "data": {
            "text/plain": [
              "['2090971686529663114,Appliances.Environment.Vacuum',\n",
              " '2232732116498514828,Apparel.Jeans',\n",
              " '2232732109628244704,Apparel.Shirt',\n",
              " '2232732103294845523,Apparel.Shoes.Step_ins',\n",
              " '2232732086500851925,Apparel.Scarf']"
            ]
          },
          "metadata": {},
          "execution_count": 337
        }
      ]
    },
    {
      "cell_type": "markdown",
      "metadata": {
        "id": "GmNb1M4KN4s9"
      },
      "source": [
        "1.2.3. Join Product and Category RDDs and Create a new key value RDD, using brand as the key and all of the categories of that brand as the value. Print out the first 5 records of the key-value RDD."
      ]
    },
    {
      "cell_type": "code",
      "source": [
        "product_key_value_rdd = rdd4_no_header.map(lambda w: (w.split(\",\")[1], w.split(\",\")[2]))\n",
        "category_key_value_rdd = rdd3_no_header.map(lambda w: (w.split(\",\")[0], w))"
      ],
      "metadata": {
        "id": "TXg-4aiwit4K"
      },
      "execution_count": 245,
      "outputs": []
    },
    {
      "cell_type": "code",
      "source": [
        "product_key_value_rdd.take(5) #"
      ],
      "metadata": {
        "colab": {
          "base_uri": "https://localhost:8080/",
          "height": 0
        },
        "id": "PFypBPPji2Am",
        "outputId": "ed85b86c-73b7-4e49-96be-c3859a6ce624"
      },
      "execution_count": 246,
      "outputs": [
        {
          "output_type": "execute_result",
          "data": {
            "text/plain": [
              "[('2053013554096767303', ''),\n",
              " ('2232732103764607583', ''),\n",
              " ('2053013555438944659', ''),\n",
              " ('2232732112782361392', 'etro'),\n",
              " ('2053013553056579841', '')]"
            ]
          },
          "metadata": {},
          "execution_count": 246
        }
      ]
    },
    {
      "cell_type": "code",
      "source": [
        "cat = product_key_value_rdd.join(category_key_value_rdd)"
      ],
      "metadata": {
        "id": "4bPqxIPn7izG"
      },
      "execution_count": 247,
      "outputs": []
    },
    {
      "cell_type": "code",
      "source": [
        "cat = cat.map(lambda n: n[1])  #mapin the function"
      ],
      "metadata": {
        "id": "UvVuHQYJ47IF"
      },
      "execution_count": 248,
      "outputs": []
    },
    {
      "cell_type": "code",
      "source": [
        "cat = cat.distinct().groupBy(lambda x: x[0]) # using distinct and group by"
      ],
      "metadata": {
        "id": "R75bT9efqqRa"
      },
      "execution_count": 250,
      "outputs": []
    },
    {
      "cell_type": "code",
      "source": [
        "cat.take(5)"
      ],
      "metadata": {
        "colab": {
          "base_uri": "https://localhost:8080/",
          "height": 0
        },
        "id": "_EACweIm4ALV",
        "outputId": "c4acc58b-34fe-4933-a58b-ea1349a52d57"
      },
      "execution_count": 251,
      "outputs": [
        {
          "output_type": "execute_result",
          "data": {
            "text/plain": [
              "[('askona', <pyspark.resultiterable.ResultIterable at 0x7ea3ae310070>),\n",
              " ('aquarodos', <pyspark.resultiterable.ResultIterable at 0x7ea3ae3109a0>),\n",
              " ('borovici', <pyspark.resultiterable.ResultIterable at 0x7ea3ae3113c0>),\n",
              " ('mebelev', <pyspark.resultiterable.ResultIterable at 0x7ea3ae311e70>),\n",
              " ('stendmebel', <pyspark.resultiterable.ResultIterable at 0x7ea3ae3112a0>)]"
            ]
          },
          "metadata": {},
          "execution_count": 251
        }
      ]
    },
    {
      "cell_type": "code",
      "source": [
        "cat1 = cat.mapValues(lambda x: [x1[1:] for x1 in x])  #mapin the function"
      ],
      "metadata": {
        "id": "IXiR3wzkvGrd"
      },
      "execution_count": 252,
      "outputs": []
    },
    {
      "cell_type": "code",
      "source": [
        "cat1.take(5)"
      ],
      "metadata": {
        "colab": {
          "base_uri": "https://localhost:8080/",
          "height": 0
        },
        "id": "cyIcQjnpzPY-",
        "outputId": "bb45939c-f6c9-4bae-87fe-bec005776f13"
      },
      "execution_count": 253,
      "outputs": [
        {
          "output_type": "execute_result",
          "data": {
            "text/plain": [
              "[('askona',\n",
              "  [('2232732061804790604,furniture.bedroom.bed',),\n",
              "   ('2053013561185141473,accessories.umbrella',),\n",
              "   ('2053013561780732677,furniture.bedroom.pillow',),\n",
              "   ('2053013557166998015,others',),\n",
              "   ('2232732089042600205,furniture.bedroom.bed',),\n",
              "   ('2053013561185141473,others',),\n",
              "   ('2232732092951691632,others',),\n",
              "   ('2053013561696846593,construction.tools.welding',),\n",
              "   ('2053013561696846593,others',),\n",
              "   ('2053013553375346967,computers.notebook',),\n",
              "   ('2232732085729099973,computers.desktop',),\n",
              "   ('2232732094025433482,furniture.bedroom.blanket',),\n",
              "   ('2232732090980368698,furniture.living_room.sofa',),\n",
              "   ('2053013553375346967,others',),\n",
              "   ('2232732090770653494,others',),\n",
              "   ('2232732090409943342,furniture.bedroom.pillow',),\n",
              "   ('2053013561847841545,furniture.bedroom.blanket',),\n",
              "   ('2232732089302647060,furniture.bedroom.blanket',)]),\n",
              " ('aquarodos',\n",
              "  [('2232732061804790604,furniture.bedroom.bed',),\n",
              "   ('2232732081702568046,furniture.bathroom.toilet',),\n",
              "   ('2232732076711346189,others',),\n",
              "   ('2053013558492398155,apparel.shoes',),\n",
              "   ('2053013558492398155,others',)]),\n",
              " ('borovici',\n",
              "  [('2232732061804790604,furniture.bedroom.bed',),\n",
              "   ('2053013557192163841,furniture.bedroom.bed',)]),\n",
              " ('mebelev',\n",
              "  [('2232732061804790604,furniture.bedroom.bed',),\n",
              "   ('2053013557192163841,furniture.bedroom.bed',)]),\n",
              " ('stendmebel',\n",
              "  [('2232732061804790604,furniture.bedroom.bed',),\n",
              "   ('2053013558987326060,apparel.shoes.moccasins',),\n",
              "   ('2053013557024391671,others',),\n",
              "   ('2053013558433677895,furniture.kitchen.table',),\n",
              "   ('2232732076711346189,others',),\n",
              "   ('2085718636156158307,construction.tools.saw',),\n",
              "   ('2053013557066334713,others',),\n",
              "   ('2053013557024391671,apparel.shoes.moccasins',),\n",
              "   ('2053013558316237377,furniture.kitchen.table',),\n",
              "   ('2085718636156158307,others',),\n",
              "   ('2053013559733912211,others',),\n",
              "   ('2232732107413652135,apparel.shorts',),\n",
              "   ('2053013558492398155,apparel.shoes',),\n",
              "   ('2053013557133443581,furniture.living_room.cabinet',),\n",
              "   ('2053013553090134275,kids.toys',),\n",
              "   ('2053013557192163841,furniture.bedroom.bed',),\n",
              "   ('2095518921321874323,furniture.living_room.cabinet',),\n",
              "   ('2232732094134485388,others',),\n",
              "   ('2070747671722722162,others',),\n",
              "   ('2053013558492398155,others',),\n",
              "   ('2053013559733912211,apparel.trousers',)])]"
            ]
          },
          "metadata": {},
          "execution_count": 253
        }
      ]
    },
    {
      "cell_type": "code",
      "source": [
        "cat1.sortByKey().take(5) # sorting using key"
      ],
      "metadata": {
        "colab": {
          "base_uri": "https://localhost:8080/",
          "height": 0
        },
        "id": "95JoVaM04EZ8",
        "outputId": "54c2db9c-8d28-45c2-a0c9-f57cdfbae731"
      },
      "execution_count": 254,
      "outputs": [
        {
          "output_type": "execute_result",
          "data": {
            "text/plain": [
              "[('a-case',\n",
              "  [('2053013558525952589,electronics.smartphone',),\n",
              "   ('2232732099436085763,construction.tools.welding',),\n",
              "   ('2053013558525952589,others',)]),\n",
              " ('a-derma',\n",
              "  [('2232732085594882243,others',),\n",
              "   ('2053013558895051365,others',),\n",
              "   ('2053013557477376525,furniture.bathroom.bath',),\n",
              "   ('2053013558861496931,apparel.shoes',),\n",
              "   ('2232732085393555647,furniture.living_room.sofa',),\n",
              "   ('2053013552737812719,stationery.cartrige',),\n",
              "   ('2053013561159975647,others',),\n",
              "   ('2053013558895051365,apparel.shoes',),\n",
              "   ('2053013558861496931,others',)]),\n",
              " ('a-elita',\n",
              "  [('2055156924407612189,accessories.bag',),\n",
              "   ('2053013560623104713,auto.accessories.parktronic',)]),\n",
              " ('a-mega',\n",
              "  [('2053013557192163841,furniture.bedroom.bed',),\n",
              "   ('2053013553484398879,appliances.kitchen.toster',),\n",
              "   ('2053013553484398879,others',)]),\n",
              " ('a-product', [('2139960757993866211,others',)])]"
            ]
          },
          "metadata": {},
          "execution_count": 254
        }
      ]
    },
    {
      "cell_type": "markdown",
      "metadata": {
        "id": "IhEPZVUBN4s9"
      },
      "source": [
        "### 1.3 Query/Analysis <a class=\"anchor\" name=\"1.3\"></a>\n",
        "For this part, write relevant RDD operations to answer the following queries.\n",
        "\n",
        "**1.3.1 Calculate the average daily sales for each year, each month. Print the results as the following format(see assignment specification).**"
      ]
    },
    {
      "cell_type": "code",
      "execution_count": 338,
      "metadata": {
        "id": "NccwtkxMN4s-",
        "colab": {
          "base_uri": "https://localhost:8080/",
          "height": 0
        },
        "outputId": "298d602e-2da1-4050-ca22-8783cad8e048"
      },
      "outputs": [
        {
          "output_type": "execute_result",
          "data": {
            "text/plain": [
              "[['338156802',\n",
              "  '2020-03-27 02:03:48.000000 +00:00',\n",
              "  '4804056',\n",
              "  '171.56',\n",
              "  '513119357'],\n",
              " ['338156808',\n",
              "  '2020-03-27 02:03:49.000000 +00:00',\n",
              "  '1005223',\n",
              "  '209.53',\n",
              "  '522277649'],\n",
              " ['338156913',\n",
              "  '2020-03-27 02:04:11.000000 +00:00',\n",
              "  '1005212',\n",
              "  '174.25',\n",
              "  '632847510'],\n",
              " ['338156921',\n",
              "  '2020-03-27 02:04:13.000000 +00:00',\n",
              "  '1005236',\n",
              "  '231.15',\n",
              "  '626579483'],\n",
              " ['338156953',\n",
              "  '2020-03-27 02:04:18.000000 +00:00',\n",
              "  '1005212',\n",
              "  '174.25',\n",
              "  '633245502']]"
            ]
          },
          "metadata": {},
          "execution_count": 338
        }
      ],
      "source": [
        "rdd2_filtered.take(5)"
      ]
    },
    {
      "cell_type": "code",
      "source": [
        "s = rdd2_filtered.map(lambda x: [(x[1].split(\"-\")[0],x[1].split(\"-\")[1]) ,x[3]])  #mapin the function"
      ],
      "metadata": {
        "id": "_9zPbCd7M8LG"
      },
      "execution_count": 369,
      "outputs": []
    },
    {
      "cell_type": "code",
      "source": [
        "s1 = s.groupBy(lambda t: t[0]).mapValues(lambda t1: (sum(float(u[1]) for u in t1) / 30)) #using groupby and maping the function"
      ],
      "metadata": {
        "id": "S9SazJJ0PJ0O"
      },
      "execution_count": 366,
      "outputs": []
    },
    {
      "cell_type": "code",
      "execution_count": 367,
      "metadata": {
        "id": "62bCu5X2N4s-",
        "colab": {
          "base_uri": "https://localhost:8080/",
          "height": 0
        },
        "outputId": "246e614b-8cfa-4b9e-928c-4d3be241015b"
      },
      "outputs": [
        {
          "output_type": "execute_result",
          "data": {
            "text/plain": [
              "[(('2020', '03'), 10712613.610657271),\n",
              " (('2019', '10'), 7665250.075667426),\n",
              " (('2019', '12'), 11472560.971322643),\n",
              " (('2020', '02'), 12705964.51399218),\n",
              " (('2020', '04'), 8150859.736995624)]"
            ]
          },
          "metadata": {},
          "execution_count": 367
        }
      ],
      "source": [
        "s1.take(5)"
      ]
    },
    {
      "cell_type": "markdown",
      "metadata": {
        "id": "turkqziJN4s-"
      },
      "source": [
        "**1.3.2 Find 10 of the best selling brands. You should display the brand and total revenue in the result.**"
      ]
    },
    {
      "cell_type": "code",
      "source": [
        "w1 = rdd2_filtered.map(lambda y: [y[2],y[3]])  #maping the function"
      ],
      "metadata": {
        "id": "Yb1_xknqWMoB"
      },
      "execution_count": 355,
      "outputs": []
    },
    {
      "cell_type": "code",
      "source": [
        "w2 = rdd4_no_header.map(lambda y1: [y1.split(\",\")[0],y1.split(\",\")[2]])  #maping the function"
      ],
      "metadata": {
        "id": "LD-LD8hEWYHB"
      },
      "execution_count": 356,
      "outputs": []
    },
    {
      "cell_type": "code",
      "source": [
        "w2.take(5)"
      ],
      "metadata": {
        "colab": {
          "base_uri": "https://localhost:8080/",
          "height": 0
        },
        "id": "ToYNqIFBdVMD",
        "outputId": "c7fd9b1c-0376-40f5-e981-fab3c3aff150"
      },
      "execution_count": 358,
      "outputs": [
        {
          "output_type": "execute_result",
          "data": {
            "text/plain": [
              "[['100007811', 'etro'],\n",
              " ['13201248', 'brw'],\n",
              " ['2701879', 'beko'],\n",
              " ['11800014', 'sony'],\n",
              " ['100093322', 'cd']]"
            ]
          },
          "metadata": {},
          "execution_count": 358
        }
      ]
    },
    {
      "cell_type": "code",
      "source": [
        "w3 = w2.join(w1) #performing join\n"
      ],
      "metadata": {
        "id": "khaK1G5XWYKT"
      },
      "execution_count": 359,
      "outputs": []
    },
    {
      "cell_type": "code",
      "source": [
        "w3 = w3.map(lambda b: b[1])"
      ],
      "metadata": {
        "id": "Ft1Onzj-4vRY"
      },
      "execution_count": 360,
      "outputs": []
    },
    {
      "cell_type": "code",
      "source": [
        "w3 = w3.groupBy(lambda i: i[0]).mapValues(lambda i1: (sum(float(i2[1]) for i2 in i1))) #maping the function"
      ],
      "metadata": {
        "id": "_X3U_DpdXQsn"
      },
      "execution_count": 361,
      "outputs": []
    },
    {
      "cell_type": "code",
      "source": [
        "w3.take(5)"
      ],
      "metadata": {
        "colab": {
          "base_uri": "https://localhost:8080/",
          "height": 0
        },
        "id": "dXRCnIQ5YAPd",
        "outputId": "e8bfc24c-33bb-4578-c79a-6548ad1f451e"
      },
      "execution_count": 364,
      "outputs": [
        {
          "output_type": "execute_result",
          "data": {
            "text/plain": [
              "[('alcon', 4419.589999999998),\n",
              " ('nike', 654194.3899999969),\n",
              " ('midea', 7306327.50000032),\n",
              " ('genius', 24857.419999999867),\n",
              " ('medi-peel', 3431.4000000000005)]"
            ]
          },
          "metadata": {},
          "execution_count": 364
        }
      ]
    },
    {
      "cell_type": "markdown",
      "metadata": {
        "id": "0P9PH6T4N4s-"
      },
      "source": [
        "## Part 2. Working with DataFrames <a class=\"anchor\" name=\"2-dataframes\"></a>\n",
        "In this section, you will need to load the given datasets into PySpark DataFrames and use DataFrame functions to answer the queries.\n",
        "### 2.1 Data Preparation and Loading\n",
        "\n",
        "**2.1.1. Load CUPS into four separate dataframes. When you create your dataframes, please refer to the metadata file and think about the appropriate data type for each columns (Note: Initially, you should read date/time related column as the string type).**"
      ]
    },
    {
      "cell_type": "code",
      "execution_count": 129,
      "metadata": {
        "id": "plDEqLIjN4s_"
      },
      "outputs": [],
      "source": [
        "from pyspark.sql.types import StructType,StructField,StringType,DoubleType\n",
        "\n",
        "usr = StructType([ \\\n",
        "    StructField(\"user_id\",StringType(),True), \\\n",
        "    StructField(\"firstname\",StringType(),True), \\\n",
        "    StructField(\"lastname\",StringType(),True), \\\n",
        "    StructField(\"dob\",StringType(),True), \\\n",
        "    StructField(\"address\",StringType(),True), \\\n",
        "    StructField(\"postcode\",IntegerType(),True), \\\n",
        "    StructField(\"state\",StringType(),True), \\\n",
        "    StructField(\"sex\",StringType(),True), \\\n",
        "    StructField(\"suburb\",StringType(),True), \\\n",
        "])\n",
        "\n",
        "cate = StructType([ \\\n",
        "    StructField(\"category_id\",StringType(),True), \\\n",
        "    StructField(\"category_code\",StringType(),True), \\\n",
        "])\n",
        "\n",
        "produc = StructType([ \\\n",
        "    StructField(\"product_id\",StringType(),True), \\\n",
        "    StructField(\"category_id\",StringType(),True), \\\n",
        "    StructField(\"brand\",StringType(),True), \\\n",
        "    StructField(\"avg_cost\",DoubleType(),True), \\\n",
        "])\n",
        "\n",
        "sal = StructType([ \\\n",
        "    StructField(\"id\",StringType(),True), \\\n",
        "    StructField(\"sales_timestamp\",StringType(),True), \\\n",
        "    StructField(\"product_id\",StringType(),True), \\\n",
        "    StructField(\"price\",DoubleType(),True), \\\n",
        "    StructField(\"user_id\",StringType(),True), \\\n",
        "    StructField(\"user_session\",StringType(),True), \\\n",
        "])"
      ]
    },
    {
      "cell_type": "code",
      "source": [
        "df_cat = spark.read.csv(catt,schema=cate,header=True)\n",
        "df_user = spark.read.csv(user,schema=usr,header=True)\n",
        "df_prod = spark.read.csv(prod,schema=produc,header=True)\n",
        "df_sale = spark.read.csv(sales,schema=sal,header=True)"
      ],
      "metadata": {
        "id": "fZh-oqvS-A6e"
      },
      "execution_count": 130,
      "outputs": []
    },
    {
      "cell_type": "markdown",
      "metadata": {
        "id": "8vYDB9uuN4s_"
      },
      "source": [
        "**2.1.2 Display the schema of the four dataframes.**"
      ]
    },
    {
      "cell_type": "code",
      "source": [
        "df_cat.printSchema()\n",
        "df_user.printSchema()\n",
        "df_prod.printSchema()\n",
        "df_sale.printSchema()"
      ],
      "metadata": {
        "colab": {
          "base_uri": "https://localhost:8080/",
          "height": 0
        },
        "id": "5NOp3qI1-WoP",
        "outputId": "097c25fd-2258-4bd3-ecf1-3fd1fe7a6455"
      },
      "execution_count": 368,
      "outputs": [
        {
          "output_type": "stream",
          "name": "stdout",
          "text": [
            "root\n",
            " |-- category_id: string (nullable = true)\n",
            " |-- category_code: string (nullable = true)\n",
            "\n",
            "root\n",
            " |-- user_id: string (nullable = true)\n",
            " |-- firstname: string (nullable = true)\n",
            " |-- lastname: string (nullable = true)\n",
            " |-- dob: string (nullable = true)\n",
            " |-- address: string (nullable = true)\n",
            " |-- postcode: integer (nullable = true)\n",
            " |-- state: string (nullable = true)\n",
            " |-- sex: string (nullable = true)\n",
            " |-- suburb: string (nullable = true)\n",
            "\n",
            "root\n",
            " |-- product_id: string (nullable = true)\n",
            " |-- category_id: string (nullable = true)\n",
            " |-- brand: string (nullable = true)\n",
            " |-- avg_cost: double (nullable = true)\n",
            "\n",
            "root\n",
            " |-- id: string (nullable = true)\n",
            " |-- sales_timestamp: string (nullable = true)\n",
            " |-- product_id: string (nullable = true)\n",
            " |-- price: double (nullable = true)\n",
            " |-- user_id: string (nullable = true)\n",
            " |-- user_session: string (nullable = true)\n",
            "\n"
          ]
        }
      ]
    },
    {
      "cell_type": "markdown",
      "metadata": {
        "id": "JQOUHLoXN4s_"
      },
      "source": [
        "### 2.2 QueryAnalysis  <a class=\"anchor\" name=\"2.2\"></a>\n",
        "Implement the following queries using dataframes. You need to be able to perform operations like filtering, sorting, joining and group by using the functions provided by the DataFrame API.   \n",
        "\n",
        "**2.2.1. Transform the 'sales_time' column in the sales dataframe to the date type; extract the hour in sales_date and create a new column “sales_hour”; after that, show the schema.**"
      ]
    },
    {
      "cell_type": "code",
      "execution_count": 131,
      "metadata": {
        "id": "TiuzMqDPN4tA"
      },
      "outputs": [],
      "source": [
        "import pyspark.sql.functions as F\n",
        "\n",
        "hour = F.udf(lambda x: x.split(' ')[1][0:2])\n",
        "df_sale1 = df_sale.withColumn(\"sales_hour\", hour(\"sales_timestamp\"))\n",
        "df_sale1 = df_sale1.withColumn('sales_time', F.col('sales_timestamp').cast('date'))\n",
        "df_sale1 = df_sale1.drop('sales_timestamp')"
      ]
    },
    {
      "cell_type": "code",
      "source": [
        "df_sale1.show(10)"
      ],
      "metadata": {
        "colab": {
          "base_uri": "https://localhost:8080/"
        },
        "id": "OOqu_Dsa1ez4",
        "outputId": "0d31d675-c560-4a95-b35c-faf7c5ea86e7"
      },
      "execution_count": null,
      "outputs": [
        {
          "output_type": "stream",
          "name": "stdout",
          "text": [
            "+---------+----------+-----+---------+--------------------+----------+----------+\n",
            "|       id|product_id|price|  user_id|        user_session|sales_hour|sales_time|\n",
            "+---------+----------+-----+---------+--------------------+----------+----------+\n",
            "|338156802|   4804056| null|513119357|0ad58441-9db9-48b...|        02|2020-03-27|\n",
            "|338156808|   1005223| null|522277649|2ecb2725-2c40-4ac...|        02|2020-03-27|\n",
            "|338156913|   1005212| null|632847510|43609582-1818-488...|        02|2020-03-27|\n",
            "|338156921|   1005236| null|626579483|bbf972ef-8f8d-4a3...|        02|2020-03-27|\n",
            "|338156953|   1005212| null|633245502|90166e0d-d7da-499...|        02|2020-03-27|\n",
            "|338156985| 100132156| null|541680528|4cd111cc-8716-472...|        02|2020-03-27|\n",
            "|338157055|   3500009| null|618162129|d0bda424-a759-494...|        02|2020-03-27|\n",
            "|338157122|   2300214| null|626601722|ce913646-936a-4b2...|        02|2020-03-27|\n",
            "|338157141| 100070443| null|604369152|fd55e2cd-dc42-4bf...|        02|2020-03-27|\n",
            "|338157271|   1306659| null|616395888|a934f0d6-5fa6-475...|        02|2020-03-27|\n",
            "+---------+----------+-----+---------+--------------------+----------+----------+\n",
            "only showing top 10 rows\n",
            "\n"
          ]
        }
      ]
    },
    {
      "cell_type": "markdown",
      "metadata": {
        "id": "61tNrzqgN4tA"
      },
      "source": [
        "**2.2.2. Calculate total sales for each hour, sort your result based on each hour’s sales in a descending order. Print out the sales_hour and total_sales columns.**"
      ]
    },
    {
      "cell_type": "code",
      "execution_count": null,
      "metadata": {
        "id": "3FDkVWIPN4tA",
        "colab": {
          "base_uri": "https://localhost:8080/"
        },
        "outputId": "0078c064-56bc-4c31-e918-49d2469f05e8"
      },
      "outputs": [
        {
          "output_type": "stream",
          "name": "stdout",
          "text": [
            "+----------+-----------+\n",
            "|sales_hour|total_sales|\n",
            "+----------+-----------+\n",
            "|        09|    1584100|\n",
            "|        08|    1534538|\n",
            "|        10|    1420118|\n",
            "|        07|    1368512|\n",
            "|        11|    1259870|\n",
            "|        06|    1221002|\n",
            "|        12|    1202359|\n",
            "|        14|    1117996|\n",
            "|        05|    1117822|\n",
            "|        13|    1109995|\n",
            "|        15|     998599|\n",
            "|        17|     876240|\n",
            "|        04|     861360|\n",
            "|        16|     850436|\n",
            "|        18|     783452|\n",
            "|        03|     556797|\n",
            "|        19|     518160|\n",
            "|        20|     345030|\n",
            "|        02|     257545|\n",
            "|        21|     195973|\n",
            "|        22|     133932|\n",
            "|        01|      99520|\n",
            "|        23|      86317|\n",
            "|        00|      60683|\n",
            "+----------+-----------+\n",
            "\n"
          ]
        }
      ],
      "source": [
        "df_sale2 = df_sale1.groupBy('sales_hour').agg(F.sum('price').alias('total_sales')).sort(F.desc('total_sales')).show(30)"
      ]
    },
    {
      "cell_type": "markdown",
      "metadata": {
        "id": "dv8zfkjMN4tB"
      },
      "source": [
        "**2.2.3.Find 10 most profitable categories (profit can be simply defined as price - avg_cost). Print out the category name and total profit. Please print the category name in capitalized word format(hint: you can reuse the UDF defined in part 1.)**"
      ]
    },
    {
      "cell_type": "code",
      "execution_count": 7,
      "metadata": {
        "id": "4u4fIGAdN4tB",
        "colab": {
          "base_uri": "https://localhost:8080/",
          "height": 0
        },
        "outputId": "2476ca2c-811a-4e3e-b6fa-61a9d3cfbe37"
      },
      "outputs": [
        {
          "output_type": "stream",
          "name": "stdout",
          "text": [
            "+-------------------+--------------------+\n",
            "|        category_id|       category_code|\n",
            "+-------------------+--------------------+\n",
            "|2090971686529663114|appliances.enviro...|\n",
            "|2232732116498514828|       apparel.jeans|\n",
            "|2232732109628244704|       apparel.shirt|\n",
            "|2232732103294845523|apparel.shoes.ste...|\n",
            "|2232732086500851925|       apparel.scarf|\n",
            "|2232732100660822557|country_yard.cult...|\n",
            "|2053013558282682943|construction.tool...|\n",
            "|2053013562527318829|furniture.living_...|\n",
            "|2110937143172923797|construction.tool...|\n",
            "|2074462942123786261|           kids.toys|\n",
            "+-------------------+--------------------+\n",
            "only showing top 10 rows\n",
            "\n"
          ]
        }
      ],
      "source": [
        "df_cat.show(10)"
      ]
    },
    {
      "cell_type": "code",
      "source": [
        "df_sale.show(10)"
      ],
      "metadata": {
        "colab": {
          "base_uri": "https://localhost:8080/",
          "height": 0
        },
        "id": "baW832PRoRpJ",
        "outputId": "9f959820-c343-402f-9e02-19e66201de0e"
      },
      "execution_count": 8,
      "outputs": [
        {
          "output_type": "stream",
          "name": "stdout",
          "text": [
            "+---------+--------------------+----------+-----+---------+--------------------+\n",
            "|       id|     sales_timestamp|product_id|price|  user_id|        user_session|\n",
            "+---------+--------------------+----------+-----+---------+--------------------+\n",
            "|338156802|2020-03-27 02:03:...|   4804056| null|513119357|0ad58441-9db9-48b...|\n",
            "|338156808|2020-03-27 02:03:...|   1005223| null|522277649|2ecb2725-2c40-4ac...|\n",
            "|338156913|2020-03-27 02:04:...|   1005212| null|632847510|43609582-1818-488...|\n",
            "|338156921|2020-03-27 02:04:...|   1005236| null|626579483|bbf972ef-8f8d-4a3...|\n",
            "|338156953|2020-03-27 02:04:...|   1005212| null|633245502|90166e0d-d7da-499...|\n",
            "|338156985|2020-03-27 02:04:...| 100132156| null|541680528|4cd111cc-8716-472...|\n",
            "|338157055|2020-03-27 02:04:...|   3500009| null|618162129|d0bda424-a759-494...|\n",
            "|338157122|2020-03-27 02:04:...|   2300214| null|626601722|ce913646-936a-4b2...|\n",
            "|338157141|2020-03-27 02:04:...| 100070443| null|604369152|fd55e2cd-dc42-4bf...|\n",
            "|338157271|2020-03-27 02:05:...|   1306659| null|616395888|a934f0d6-5fa6-475...|\n",
            "+---------+--------------------+----------+-----+---------+--------------------+\n",
            "only showing top 10 rows\n",
            "\n"
          ]
        }
      ]
    },
    {
      "cell_type": "code",
      "source": [
        "df_prod.show(10)"
      ],
      "metadata": {
        "colab": {
          "base_uri": "https://localhost:8080/",
          "height": 0
        },
        "id": "ldlmi1-joRxt",
        "outputId": "4ace6cae-f43f-4de4-8ca1-187fd9292b7a"
      },
      "execution_count": 9,
      "outputs": [
        {
          "output_type": "stream",
          "name": "stdout",
          "text": [
            "+----------+-------------------+-----+--------+\n",
            "|product_id|        category_id|brand|avg_cost|\n",
            "+----------+-------------------+-----+--------+\n",
            "| 100168127|2053013554096767303| null|    null|\n",
            "|   7101887|2232732103764607583| null|    null|\n",
            "| 100058603|2053013555438944659| null|    null|\n",
            "| 100007811|2232732112782361392| etro|    null|\n",
            "|  26400508|2053013553056579841| null|    null|\n",
            "| 100215722|2134905019189691101| null|    null|\n",
            "|  32402016|2232732115777094520| null|    null|\n",
            "|  13201248|2232732061804790604|  brw|    null|\n",
            "|   2701879|2053013563911439225| beko|    null|\n",
            "|  15300266|2232732107698864813| null|    null|\n",
            "+----------+-------------------+-----+--------+\n",
            "only showing top 10 rows\n",
            "\n"
          ]
        }
      ]
    },
    {
      "cell_type": "code",
      "source": [
        "from pyspark.sql.functions import broadcast\n",
        "df_joined_broadcast = df_cat.join(broadcast(df_prod),df_prod.category_id==df_cat.category_id,how='inner')\n",
        "df_joined_broadcast2 = df_sale.join(df_joined_broadcast,df_joined_broadcast.product_id==df_sale.product_id,how='inner')"
      ],
      "metadata": {
        "id": "gg1bdhgJJANg"
      },
      "execution_count": 62,
      "outputs": []
    },
    {
      "cell_type": "code",
      "source": [
        "df_joined_broadcast = df_joined_broadcast2.withColumn(\"Pr\",df_joined_broadcast2['price'] - df_joined_broadcast2['avg_cost'])"
      ],
      "metadata": {
        "id": "2O88Dc6kIvKX"
      },
      "execution_count": 84,
      "outputs": []
    },
    {
      "cell_type": "code",
      "source": [
        "df_joined_broadcast.show()"
      ],
      "metadata": {
        "colab": {
          "base_uri": "https://localhost:8080/",
          "height": 0
        },
        "id": "jbk8sw6AsFPb",
        "outputId": "72591edd-86d6-4f4a-aa68-359a9b3a73f1"
      },
      "execution_count": 80,
      "outputs": [
        {
          "output_type": "stream",
          "name": "stdout",
          "text": [
            "+---------+--------------------+----------+-----+---------+--------------------+-------------------+-------------+----------+-------------------+-------+----------------+-------------------+\n",
            "|       id|     sales_timestamp|product_id|price|  user_id|        user_session|        category_id|category_code|product_id|        category_id|  brand|        avg_cost|                 Pr|\n",
            "+---------+--------------------+----------+-----+---------+--------------------+-------------------+-------------+----------+-------------------+-------+----------------+-------------------+\n",
            "|141808234|2019-12-17 14:52:...| 100000023|54.03|512644847|1c8e1f85-e703-415...|2053013561277416167|       others| 100000023|2053013561277416167| bigben|48.6198535618814|  5.410146438118602|\n",
            "|351007969|2020-04-04 15:28:...| 100000024|72.05|636643673|2164816e-c937-43a...|2232732105123562109|apparel.scarf| 100000024|2232732105123562109|ubisoft|57.0421641259153| 15.007835874084698|\n",
            "|351007969|2020-04-04 15:28:...| 100000024|72.05|636643673|2164816e-c937-43a...|2053013561277416167|       others| 100000024|2053013561277416167|ubisoft|41.5196535007943|   30.5303464992057|\n",
            "|357865888|2020-04-08 23:00:...| 100000024|72.05|622971132|ebd5da75-06be-4fd...|2232732105123562109|apparel.scarf| 100000024|2232732105123562109|ubisoft|57.0421641259153| 15.007835874084698|\n",
            "|357865888|2020-04-08 23:00:...| 100000024|72.05|622971132|ebd5da75-06be-4fd...|2053013561277416167|       others| 100000024|2053013561277416167|ubisoft|41.5196535007943|   30.5303464992057|\n",
            "|376782907|2020-04-17 11:40:...| 100000024|82.11|622971132|b7c540c4-b19e-4d6...|2232732105123562109|apparel.scarf| 100000024|2232732105123562109|ubisoft|57.0421641259153|   25.0678358740847|\n",
            "|376782907|2020-04-17 11:40:...| 100000024|82.11|622971132|b7c540c4-b19e-4d6...|2053013561277416167|       others| 100000024|2053013561277416167|ubisoft|41.5196535007943|   40.5903464992057|\n",
            "|406092898|2020-04-28 19:45:...| 100000024|53.53|515858872|9269f0c6-38be-400...|2232732105123562109|apparel.scarf| 100000024|2232732105123562109|ubisoft|57.0421641259153| -3.512164125915298|\n",
            "|406092898|2020-04-28 19:45:...| 100000024|53.53|515858872|9269f0c6-38be-400...|2053013561277416167|       others| 100000024|2053013561277416167|ubisoft|41.5196535007943| 12.010346499205703|\n",
            "|406095896|2020-04-28 19:47:...| 100000024|53.53|515858872|9269f0c6-38be-400...|2232732105123562109|apparel.scarf| 100000024|2232732105123562109|ubisoft|57.0421641259153| -3.512164125915298|\n",
            "|406095896|2020-04-28 19:47:...| 100000024|53.53|515858872|9269f0c6-38be-400...|2053013561277416167|       others| 100000024|2053013561277416167|ubisoft|41.5196535007943| 12.010346499205703|\n",
            "|406579998|2020-04-29 04:43:...| 100000024|53.53|515858872|eb5f35dd-6b55-445...|2232732105123562109|apparel.scarf| 100000024|2232732105123562109|ubisoft|57.0421641259153| -3.512164125915298|\n",
            "|406579998|2020-04-29 04:43:...| 100000024|53.53|515858872|eb5f35dd-6b55-445...|2053013561277416167|       others| 100000024|2053013561277416167|ubisoft|41.5196535007943| 12.010346499205703|\n",
            "|406581966|2020-04-29 04:44:...| 100000024|53.53|515858872|eb5f35dd-6b55-445...|2232732105123562109|apparel.scarf| 100000024|2232732105123562109|ubisoft|57.0421641259153| -3.512164125915298|\n",
            "|406581966|2020-04-29 04:44:...| 100000024|53.53|515858872|eb5f35dd-6b55-445...|2053013561277416167|       others| 100000024|2053013561277416167|ubisoft|41.5196535007943| 12.010346499205703|\n",
            "| 47380016|2019-11-18 18:58:...| 100000024|72.05|512915545|5a6e9a48-d038-4af...|2232732105123562109|apparel.scarf| 100000024|2232732105123562109|ubisoft|57.0421641259153| 15.007835874084698|\n",
            "| 47380016|2019-11-18 18:58:...| 100000024|72.05|512915545|5a6e9a48-d038-4af...|2053013561277416167|       others| 100000024|2053013561277416167|ubisoft|41.5196535007943|   30.5303464992057|\n",
            "| 57801005|2019-11-25 08:18:...| 100000024|36.03|512541926|bff6ac8b-dd90-4ea...|2232732105123562109|apparel.scarf| 100000024|2232732105123562109|ubisoft|57.0421641259153|-21.012164125915298|\n",
            "| 57801005|2019-11-25 08:18:...| 100000024|36.03|512541926|bff6ac8b-dd90-4ea...|2053013561277416167|       others| 100000024|2053013561277416167|ubisoft|41.5196535007943| -5.489653500794297|\n",
            "| 58979999|2019-11-26 02:43:...| 100000024|36.03|513597472|f89e817e-0363-471...|2232732105123562109|apparel.scarf| 100000024|2232732105123562109|ubisoft|57.0421641259153|-21.012164125915298|\n",
            "+---------+--------------------+----------+-----+---------+--------------------+-------------------+-------------+----------+-------------------+-------+----------------+-------------------+\n",
            "only showing top 20 rows\n",
            "\n"
          ]
        }
      ]
    },
    {
      "cell_type": "code",
      "source": [
        "df_joined_broadcast4 = df_joined_broadcast.groupBy('category_code').agg(F.sum('pr').alias('total_profit'))"
      ],
      "metadata": {
        "id": "68kDpZesIvv-"
      },
      "execution_count": 75,
      "outputs": []
    },
    {
      "cell_type": "code",
      "source": [
        "def transform_category_code(x):\n",
        "    words = x.split('.')\n",
        "    capitalized_words = [word.capitalize() for word in words]\n",
        "    #ww = [' '.join(capitalized_words)]\n",
        "    return ' '.join(capitalized_words)"
      ],
      "metadata": {
        "id": "FZIcwNoqw9hL"
      },
      "execution_count": 69,
      "outputs": []
    },
    {
      "cell_type": "code",
      "source": [
        "from pyspark.sql.functions import col, udf\n",
        "convertUDF = udf(lambda z: transform_category_code(z),StringType())\n",
        "#df_joined_broadcast3 = df_joined_broadcast.withColumn(\"category Name\", transform_category_code('category_code'))\n",
        "df_joined_broadcast4.select(convertUDF(col(\"category_code\")).alias(\"category Name\"),col('total_profit')).sort(F.desc('total_profit')).show(10)"
      ],
      "metadata": {
        "colab": {
          "base_uri": "https://localhost:8080/",
          "height": 0
        },
        "id": "klyWtjqlxAY3",
        "outputId": "63d63695-adee-49df-e678-70e77e1c8a47"
      },
      "execution_count": 70,
      "outputs": [
        {
          "output_type": "stream",
          "name": "stdout",
          "text": [
            "+--------------------+--------------------+\n",
            "|       category Name|        total_profit|\n",
            "+--------------------+--------------------+\n",
            "|Construction Tool...| 5.812833389237851E7|\n",
            "|              Others|1.4376613943366347E7|\n",
            "|Appliances Kitche...|    6037513.86898409|\n",
            "|Appliances Person...|   5451166.058430032|\n",
            "|  Computers Notebook|  3514810.3210696056|\n",
            "|Electronics Audio...|   3228578.099845702|\n",
            "|Appliances Kitche...|   2998500.589252331|\n",
            "|Appliances Enviro...|   2135828.001764414|\n",
            "| Stationery Cartrige|  1931292.7781732907|\n",
            "|  Electronics Clocks|  1662857.1804789265|\n",
            "+--------------------+--------------------+\n",
            "only showing top 10 rows\n",
            "\n"
          ]
        }
      ]
    },
    {
      "cell_type": "code",
      "source": [
        "df_joined_broadcast.filter(df_joined_broadcast.total_profit.isNotNull()).show()"
      ],
      "metadata": {
        "colab": {
          "base_uri": "https://localhost:8080/",
          "height": 0
        },
        "id": "vJc97WSXVaNe",
        "outputId": "7e91d76c-bdf5-4a1a-cd14-aba2eaff0196"
      },
      "execution_count": 66,
      "outputs": [
        {
          "output_type": "stream",
          "name": "stdout",
          "text": [
            "+--------------------+------------------+\n",
            "|       category_code|      total_profit|\n",
            "+--------------------+------------------+\n",
            "|    computers.ebooks| 31538.65947660072|\n",
            "|apparel.shoes.sli...| 595940.0116838096|\n",
            "|computers.periphe...| 4334.102696330604|\n",
            "|construction.tool...|178264.19171902147|\n",
            "|appliances.kitche...| 1133316.837039947|\n",
            "|electronics.video...| 150068.0448190215|\n",
            "|     sport.snowboard|19835.867813879417|\n",
            "|       apparel.shirt|129745.28316537777|\n",
            "|electronics.camer...|103653.36832882102|\n",
            "|electronics.audio...| 3228578.099845702|\n",
            "|appliances.kitche...|283440.16398370196|\n",
            "|appliances.kitche...| 66809.77831862957|\n",
            "|  electronics.tablet| 773962.8678973827|\n",
            "|appliances.kitche...| 105433.9021604841|\n",
            "|auto.accessories....| 40335.35986982113|\n",
            "|apparel.shoes.moc...| 564148.9953528396|\n",
            "|       apparel.jeans|-75744.25791193443|\n",
            "|computers.periphe...| 96461.15720718351|\n",
            "| stationery.cartrige|1931292.7781732907|\n",
            "|furniture.living_...| 207700.8608442781|\n",
            "+--------------------+------------------+\n",
            "only showing top 20 rows\n",
            "\n"
          ]
        }
      ]
    },
    {
      "cell_type": "markdown",
      "metadata": {
        "id": "LImv32-aN4tB"
      },
      "source": [
        "**2.2.4. Use DataFrame filters to find all transactions sold at loss (defined as price < avg_cost), calculate 10 worst loss margin in percentage. (margin is defined as (price - avg_cost)/avg_cost; if price - avg_cost > 0, it’s call a profit margin; otherwise a loss margin)**"
      ]
    },
    {
      "cell_type": "code",
      "execution_count": 89,
      "metadata": {
        "id": "mcaGOhkvN4tB",
        "colab": {
          "base_uri": "https://localhost:8080/",
          "height": 0
        },
        "outputId": "6585023f-4951-4fb3-c2f5-c63f9cced83f"
      },
      "outputs": [
        {
          "output_type": "stream",
          "name": "stdout",
          "text": [
            "+---------+--------------------+----------+-----+---------+--------------------+-------------------+--------------------+----------+-------------------+------+----------------+------------------+------------------+\n",
            "|       id|     sales_timestamp|product_id|price|  user_id|        user_session|        category_id|       category_code|product_id|        category_id| brand|        avg_cost|                Pr|            margin|\n",
            "+---------+--------------------+----------+-----+---------+--------------------+-------------------+--------------------+----------+-------------------+------+----------------+------------------+------------------+\n",
            "|204017856|2020-01-16 08:07:...|   2602040| 4.61|564337537|78faeadd-873e-473...|2053013563970159485|appliances.kitche...|   2602040|2053013563970159485| bosch|608.708523068662| -604.098523068662|-99.24265887115236|\n",
            "|204017856|2020-01-16 08:07:...|   2602040| 4.61|564337537|78faeadd-873e-473...|2053013563970159485|              others|   2602040|2053013563970159485| bosch|608.708523068662| -604.098523068662|-99.24265887115236|\n",
            "|204037762|2020-01-16 08:19:...|   2602040| 4.61|517410450|12d26c5a-2d04-4f5...|2053013563970159485|appliances.kitche...|   2602040|2053013563970159485| bosch|608.708523068662| -604.098523068662|-99.24265887115236|\n",
            "|204037762|2020-01-16 08:19:...|   2602040| 4.61|517410450|12d26c5a-2d04-4f5...|2053013563970159485|              others|   2602040|2053013563970159485| bosch|608.708523068662| -604.098523068662|-99.24265887115236|\n",
            "|204017856|2020-01-16 08:07:...|   2602040| 4.61|564337537|78faeadd-873e-473...|2232732101835227701|              others|   2602040|2232732101835227701| bosch|603.004942713666| -598.394942713666|-99.23549548710929|\n",
            "|204037762|2020-01-16 08:19:...|   2602040| 4.61|517410450|12d26c5a-2d04-4f5...|2232732101835227701|              others|   2602040|2232732101835227701| bosch|603.004942713666| -598.394942713666|-99.23549548710929|\n",
            "|394075934|2020-04-24 10:42:...| 100044809| 5.15|646470313|08895acb-4303-4b2...|2053013556579795419|       sport.trainer| 100044809|2053013556579795419|fitlux| 625.54040177621|-620.3904017762101|-99.17671185020558|\n",
            "|394106370|2020-04-24 10:55:...| 100044809| 5.15|646470313|5d7d70d4-c494-404...|2053013556579795419|              others| 100044809|2053013556579795419|fitlux| 625.54040177621|-620.3904017762101|-99.17671185020558|\n",
            "|394075934|2020-04-24 10:42:...| 100044809| 5.15|646470313|08895acb-4303-4b2...|2053013556579795419|              others| 100044809|2053013556579795419|fitlux| 625.54040177621|-620.3904017762101|-99.17671185020558|\n",
            "|394083902|2020-04-24 10:46:...| 100044809| 5.15|646470313|08895acb-4303-4b2...|2053013556579795419|       sport.trainer| 100044809|2053013556579795419|fitlux| 625.54040177621|-620.3904017762101|-99.17671185020558|\n",
            "+---------+--------------------+----------+-----+---------+--------------------+-------------------+--------------------+----------+-------------------+------+----------------+------------------+------------------+\n",
            "only showing top 10 rows\n",
            "\n"
          ]
        }
      ],
      "source": [
        "df_loss = df_joined_broadcast.filter(df_joined_broadcast['pr'] < 0)\n",
        "df_loss.withColumn(\"loss margin\",(df_joined_broadcast['pr'] / df_joined_broadcast['avg_cost'])*100).sort('margin').show(10)"
      ]
    },
    {
      "cell_type": "markdown",
      "metadata": {
        "id": "eQNPhUHNN4tC"
      },
      "source": [
        "**2.2.5. Draw a barchart to show total sales from different states in each year.**"
      ]
    },
    {
      "cell_type": "code",
      "execution_count": 103,
      "metadata": {
        "id": "Mbo2N_gSN4tC"
      },
      "outputs": [],
      "source": [
        "df_state = df_sale1.join(df_user,df_user.user_id==df_sale1.user_id,how='inner')"
      ]
    },
    {
      "cell_type": "code",
      "source": [
        "df_state.show(5)"
      ],
      "metadata": {
        "colab": {
          "base_uri": "https://localhost:8080/",
          "height": 0
        },
        "id": "Y-6X_Zc3gAr2",
        "outputId": "b4b429e2-0269-4b82-d61e-505c93683426"
      },
      "execution_count": 93,
      "outputs": [
        {
          "output_type": "stream",
          "name": "stdout",
          "text": [
            "+---------+----------+------+---------+--------------------+----------+----------+---------+---------+--------+----------+----------------+--------+-----+------+-------+\n",
            "|       id|product_id| price|  user_id|        user_session|sales_hour|sales_time|  user_id|firstname|lastname|       dob|         address|postcode|state|   sex| suburb|\n",
            "+---------+----------+------+---------+--------------------+----------+----------+---------+---------+--------+----------+----------------+--------+-----+------+-------+\n",
            "|356442081|  12703931|194.08|128029678|6149bcd2-37df-40e...|        06|2020-04-08|128029678|    SERGE| Unknown|23-10-1960|  13 TRADE PLACE|    3133|  VIC|  male|VERMONT|\n",
            "|356456957|  12703931|194.08|128029678|6149bcd2-37df-40e...|        07|2020-04-08|128029678|    SERGE| Unknown|23-10-1960|  13 TRADE PLACE|    3133|  VIC|  male|VERMONT|\n",
            "|321329055|  12703931|181.73|128029678|a5b8a7bc-1641-4f4...|        18|2020-03-20|128029678|    SERGE| Unknown|23-10-1960|  13 TRADE PLACE|    3133|  VIC|  male|VERMONT|\n",
            "|176654395|   2900516|  56.6|128968633|8abf45f4-a4d8-4b4...|        10|2019-12-31|128968633|    TANIE| Unknown|  4-6-1996|13 STEELE STREET|    2602|  ACT|female|HACKETT|\n",
            "|176804236|  15800015|145.17|128968633|600541a7-4a9b-400...|        11|2019-12-31|128968633|    TANIE| Unknown|  4-6-1996|13 STEELE STREET|    2602|  ACT|female|HACKETT|\n",
            "+---------+----------+------+---------+--------------------+----------+----------+---------+---------+--------+----------+----------------+--------+-----+------+-------+\n",
            "only showing top 5 rows\n",
            "\n"
          ]
        }
      ]
    },
    {
      "cell_type": "code",
      "source": [
        "df_state = df_state.withColumn('sales_year',F.year(col('sales_time')))"
      ],
      "metadata": {
        "id": "rfhYT_eTgD9I"
      },
      "execution_count": 104,
      "outputs": []
    },
    {
      "cell_type": "code",
      "source": [
        "df_state.show(5)"
      ],
      "metadata": {
        "colab": {
          "base_uri": "https://localhost:8080/",
          "height": 0
        },
        "id": "wjOaDUixhxjn",
        "outputId": "22e4bf04-c5cc-495e-9147-05896728ba7d"
      },
      "execution_count": 115,
      "outputs": [
        {
          "output_type": "stream",
          "name": "stdout",
          "text": [
            "+-----+----------+--------------------+\n",
            "|state|sales_year|         total_price|\n",
            "+-----+----------+--------------------+\n",
            "|  ACT|      2020| 1.969928253000002E7|\n",
            "|  VIC|      2019|2.2068959634000325E8|\n",
            "|   SA|      2020| 9.000863934000091E7|\n",
            "|  QLD|      2020|2.5114637523001552E8|\n",
            "|  QLD|      2019|1.7657346307001534E8|\n",
            "+-----+----------+--------------------+\n",
            "only showing top 5 rows\n",
            "\n"
          ]
        }
      ]
    },
    {
      "cell_type": "code",
      "source": [
        "df_state = df_state.groupBy(['state','sales_year']).agg(F.sum('price').alias('total_price'))"
      ],
      "metadata": {
        "id": "vcG14JNEiQ23"
      },
      "execution_count": 105,
      "outputs": []
    },
    {
      "cell_type": "code",
      "source": [
        "import seaborn as sns\n",
        "dfpd_state = df_state.toPandas()\n",
        "fig, ax = plt.subplots()\n",
        "\n",
        "sns.barplot(ax = ax, data = dfpd_state, x = 'state', y = 'total_price', hue = 'sales_year')\n",
        "\n",
        "plt.show()"
      ],
      "metadata": {
        "colab": {
          "base_uri": "https://localhost:8080/",
          "height": 465
        },
        "id": "6c9v4bMNtAYA",
        "outputId": "47b6465a-e391-4135-f9bd-db4ef8c0c2f9"
      },
      "execution_count": 184,
      "outputs": [
        {
          "output_type": "display_data",
          "data": {
            "text/plain": [
              "<Figure size 640x480 with 1 Axes>"
            ],
            "image/png": "[encoded data removed]"
          },
          "metadata": {}
        }
      ]
    },
    {
      "cell_type": "markdown",
      "metadata": {
        "id": "-BaXBDsWN4tC"
      },
      "source": [
        "**2.2.6. Draw a scatter plot of customer age and their total spending with MOTH. To limit the number of datapoints, you may show the top 1000 “most valuable” customers only. You may also use log scale for the XY axis.**"
      ]
    },
    {
      "cell_type": "code",
      "execution_count": 176,
      "metadata": {
        "id": "mciU8VCwN4tC"
      },
      "outputs": [],
      "source": [
        "age = df_sale.join(df_user,\"user_id\",how='inner')"
      ]
    },
    {
      "cell_type": "code",
      "source": [
        "def agee(x):\n",
        "  x1 = x.split(\"-\")\n",
        "  if len(x1[0]) == 1:\n",
        "    x2 = '0' + x1[0]\n",
        "  else:\n",
        "    x2 = x1[0]\n",
        "  if len(x1[1]) == 1:\n",
        "    x3 = '0' + x1[1]\n",
        "  else:\n",
        "    x3 = x1[1]\n",
        "  x4 = x1[2] + '-' + x3 + '-' + x2\n",
        "  return x4"
      ],
      "metadata": {
        "id": "UCL0NHR0CoFh"
      },
      "execution_count": 168,
      "outputs": []
    },
    {
      "cell_type": "code",
      "source": [
        "from pyspark.sql.functions import col, udf\n",
        "ageUDF = udf(lambda z: agee(z),StringType())\n",
        "age = age.withColumn('dobbb',ageUDF(col(\"dob\")))"
      ],
      "metadata": {
        "id": "qr7hbVXzEkUp"
      },
      "execution_count": 177,
      "outputs": []
    },
    {
      "cell_type": "code",
      "source": [
        "age = age.withColumn('sales_time', F.col('sales_timestamp').cast('date'))\n",
        "age = age.withColumn('dobb', F.col('dobbb').cast('date'))"
      ],
      "metadata": {
        "id": "HGTzHUumA6nh"
      },
      "execution_count": 178,
      "outputs": []
    },
    {
      "cell_type": "code",
      "source": [
        "age = age.withColumn(\"age\", F.floor(F.datediff(F.col(\"sales_time\"),F.col(\"dobb\"))/365.25))"
      ],
      "metadata": {
        "id": "ba5B-duyBg8B"
      },
      "execution_count": 179,
      "outputs": []
    },
    {
      "cell_type": "code",
      "source": [
        "age_group = age.groupBy('user_id').agg(F.max('age').alias('customer_age'),F.sum('price').alias('Total amount')).sort(F.desc('Total amount'))"
      ],
      "metadata": {
        "id": "lqYrZjqkONP_"
      },
      "execution_count": 189,
      "outputs": []
    },
    {
      "cell_type": "code",
      "source": [
        "age_group = age_group.limit(1000)\n",
        "age_grouppd = age_group.toPandas()"
      ],
      "metadata": {
        "id": "ig_pq44SQfZH"
      },
      "execution_count": 190,
      "outputs": []
    },
    {
      "cell_type": "code",
      "source": [
        "sns.scatterplot(x=\"Total amount\", y=\"customer_age\",data=age_grouppd)"
      ],
      "metadata": {
        "colab": {
          "base_uri": "https://localhost:8080/",
          "height": 466
        },
        "id": "PCXpS15tQyTz",
        "outputId": "47b57f32-073a-4684-9981-896f7948cd3a"
      },
      "execution_count": 191,
      "outputs": [
        {
          "output_type": "execute_result",
          "data": {
            "text/plain": [
              "<Axes: xlabel='Total amount', ylabel='customer_age'>"
            ]
          },
          "metadata": {},
          "execution_count": 191
        },
        {
          "output_type": "display_data",
          "data": {
            "text/plain": [
              "<Figure size 640x480 with 1 Axes>"
            ],
            "image/png": "[encoded data removed]"
          },
          "metadata": {}
        }
      ]
    },
    {
      "cell_type": "code",
      "source": [
        "age_group.show()"
      ],
      "metadata": {
        "colab": {
          "base_uri": "https://localhost:8080/",
          "height": 0
        },
        "id": "ylj4z2sGONed",
        "outputId": "2c2bb354-e70a-4832-86ae-49825bfc94e5"
      },
      "execution_count": 182,
      "outputs": [
        {
          "output_type": "stream",
          "name": "stdout",
          "text": [
            "+---------+------------------+------------------+\n",
            "|  user_id|             c_age|      Total amount|\n",
            "+---------+------------------+------------------+\n",
            "|553431815|              32.0| 790120.9399999969|\n",
            "|549109608|59.862617498192336| 750149.9700000036|\n",
            "|569333570|              63.0| 689273.0899999995|\n",
            "|513230794| 43.45010924981792| 647798.6499999984|\n",
            "|595104624|              53.0| 605792.7400000003|\n",
            "|513320236| 58.93097497842968| 567148.1000000002|\n",
            "|610871788|              37.0| 561013.4799999988|\n",
            "|568782581|              34.0| 540447.6100000015|\n",
            "|598224683|              16.0| 539601.6799999983|\n",
            "|538216048|              41.0| 523403.1299999991|\n",
            "|563599039|              71.0|474648.46000000223|\n",
            "|512386086|              48.0|473119.38999999856|\n",
            "|515428951|              56.0|447804.54999999923|\n",
            "|516010934|              11.0|403633.97000000015|\n",
            "|512409624| 51.44529750479847|386011.62000000005|\n",
            "|518514099|              25.0|368759.56000000064|\n",
            "|562104312| 23.06153846153846| 351876.0299999999|\n",
            "|514726585|49.624633431085044| 336402.4799999995|\n",
            "|515384420|              33.0|332926.29000000015|\n",
            "|534545940| 35.25396825396825|331185.98000000004|\n",
            "+---------+------------------+------------------+\n",
            "only showing top 20 rows\n",
            "\n"
          ]
        }
      ]
    },
    {
      "cell_type": "markdown",
      "metadata": {
        "id": "JOrh_X4jN4tD"
      },
      "source": [
        "### Part 3 RDDs vs DataFrame vs Spark SQL (15%) <a class=\"anchor\" name=\"part-3\"></a>\n",
        "Implement the following queries using RDDs, DataFrames in SparkSQL separately. Log the  time taken for each query in each approach using the “%%time” built-in magic command in Jupyter Notebook and discuss the performance difference between these 3 approaches.\n"
      ]
    },
    {
      "cell_type": "markdown",
      "metadata": {
        "id": "CjJefukZN4tD"
      },
      "source": [
        "\n"
      ]
    },
    {
      "cell_type": "markdown",
      "metadata": {
        "id": "YwOFd1UwN4tD"
      },
      "source": [
        "#### Query: Find top 100 most popular products (by total sales) among user age group 20-40, group by brand, and show total sales revenue of each brand."
      ]
    },
    {
      "cell_type": "markdown",
      "metadata": {
        "id": "ab2r8u8oN4tF"
      },
      "source": [
        "#### 3.1. RDD Implementation"
      ]
    },
    {
      "cell_type": "code",
      "execution_count": null,
      "metadata": {
        "id": "HpGl1G-YN4tG"
      },
      "outputs": [],
      "source": [
        "%%time\n"
      ]
    },
    {
      "cell_type": "markdown",
      "metadata": {
        "id": "hRf7SJyLN4tG"
      },
      "source": [
        "#### 3.2. DataFrame Implementation"
      ]
    },
    {
      "cell_type": "code",
      "execution_count": 239,
      "metadata": {
        "id": "42GZpRg6N4tG",
        "colab": {
          "base_uri": "https://localhost:8080/",
          "height": 0
        },
        "outputId": "ae838b80-ff9e-48e3-d291-9a8343ae8d96"
      },
      "outputs": [
        {
          "output_type": "stream",
          "name": "stdout",
          "text": [
            "CPU times: user 8.91 ms, sys: 307 µs, total: 9.21 ms\n",
            "Wall time: 61.4 ms\n"
          ]
        }
      ],
      "source": [
        "%%time\n",
        "age1 = age.filter((age['age'] > 19) & (age['age'] < 41))\n",
        "top = age1.join(df_prod,'product_id',how='inner')\n",
        "top1 = top.groupBy('product_id','brand').agg(F.sum('price').alias('total')).sort(F.desc('total')).limit(100)\n",
        "brand = top1.groupBy('brand').sum('total')"
      ]
    },
    {
      "cell_type": "code",
      "source": [
        "top1.show(5)"
      ],
      "metadata": {
        "colab": {
          "base_uri": "https://localhost:8080/",
          "height": 0
        },
        "id": "9NNX5XyyczmY",
        "outputId": "24687109-f0cd-473c-f1d1-6d29248252c8"
      },
      "execution_count": 200,
      "outputs": [
        {
          "output_type": "stream",
          "name": "stdout",
          "text": [
            "+----------+-----+--------------------+\n",
            "|product_id|brand|               total|\n",
            "+----------+-----+--------------------+\n",
            "|   1005115|apple| 8.098912971999976E7|\n",
            "|   1005105|apple| 4.812783059999972E7|\n",
            "|   1005135|apple| 2.749695059999994E7|\n",
            "|   1002544|apple|2.7139300039999146E7|\n",
            "|   1004249|apple|2.5861170600000005E7|\n",
            "+----------+-----+--------------------+\n",
            "only showing top 5 rows\n",
            "\n"
          ]
        }
      ]
    },
    {
      "cell_type": "code",
      "source": [
        "brand.show(5)"
      ],
      "metadata": {
        "colab": {
          "base_uri": "https://localhost:8080/",
          "height": 0
        },
        "id": "jU_DnGRumQJZ",
        "outputId": "95a23fdb-04b4-4a98-e1de-3f90a6d1358b"
      },
      "execution_count": 220,
      "outputs": [
        {
          "output_type": "stream",
          "name": "stdout",
          "text": [
            "+-------+--------------------+\n",
            "|  brand|          sum(total)|\n",
            "+-------+--------------------+\n",
            "|  apple|  4.94430150719998E8|\n",
            "|samsung|1.5419462783000112E8|\n",
            "| xiaomi|1.6149171119999886E7|\n",
            "| huawei|   9990437.200000009|\n",
            "|   oppo|   7943172.939999982|\n",
            "+-------+--------------------+\n",
            "only showing top 5 rows\n",
            "\n"
          ]
        }
      ]
    },
    {
      "cell_type": "markdown",
      "metadata": {
        "id": "v4oZtw2JN4tG"
      },
      "source": [
        "#### 3.3. Spark SQL Implementation"
      ]
    },
    {
      "cell_type": "code",
      "source": [
        "age.createOrReplaceTempView(\"age_sql\")\n",
        "df_prod.createOrReplaceTempView(\"prod_sql\")"
      ],
      "metadata": {
        "id": "OtXGbs06k4Ag"
      },
      "execution_count": null,
      "outputs": []
    },
    {
      "cell_type": "code",
      "execution_count": 240,
      "metadata": {
        "id": "4xtIYOIHN4tH",
        "colab": {
          "base_uri": "https://localhost:8080/",
          "height": 0
        },
        "outputId": "d1ba1ed8-2a1c-48fb-b840-6f38e6892352"
      },
      "outputs": [
        {
          "output_type": "stream",
          "name": "stdout",
          "text": [
            "CPU times: user 1.66 ms, sys: 0 ns, total: 1.66 ms\n",
            "Wall time: 44.2 ms\n"
          ]
        }
      ],
      "source": [
        "%%time\n",
        "sqll = spark.sql('''\n",
        "  SELECT brand, SUM(total)\n",
        "  FROM (SELECT brand, prod_sql.product_id, SUM(price) as total\n",
        "  FROM age_sql\n",
        "  INNER JOIN prod_sql\n",
        "  ON age_sql.product_id = prod_sql.product_id\n",
        "  WHERE (age > 19 AND age < 41)\n",
        "  GROUP BY prod_sql.product_id, brand\n",
        "  ORDER BY total DESC\n",
        "  LIMIT 100\n",
        "  )\n",
        "  GROUP BY brand\n",
        "''')"
      ]
    },
    {
      "cell_type": "code",
      "source": [
        "sqll.show(10)"
      ],
      "metadata": {
        "colab": {
          "base_uri": "https://localhost:8080/",
          "height": 0
        },
        "id": "x15uFJUrjY-C",
        "outputId": "5aa34c0a-281e-4460-8cc8-30d0b8d0c903"
      },
      "execution_count": 217,
      "outputs": [
        {
          "output_type": "stream",
          "name": "stdout",
          "text": [
            "+-------+--------------------+\n",
            "|  brand|          sum(total)|\n",
            "+-------+--------------------+\n",
            "|  apple|  4.94430150719998E8|\n",
            "|samsung|1.5419462783000112E8|\n",
            "| xiaomi|1.6149171119999886E7|\n",
            "| huawei|   9990437.200000009|\n",
            "|   oppo|   7943172.939999982|\n",
            "|   sony|   3257330.260000016|\n",
            "|   null|1.5456187890000008E7|\n",
            "+-------+--------------------+\n",
            "\n"
          ]
        }
      ]
    },
    {
      "cell_type": "markdown",
      "metadata": {
        "id": "z2j-k_o-N4tH"
      },
      "source": [
        "### 3.4 Observe the query execution time among RDD, DataFrame, SparkSQL, which is the fastest and why? (Maximum 500 words.)"
      ]
    },
    {
      "cell_type": "markdown",
      "metadata": {
        "id": "m6ky620tN4tH"
      },
      "source": [
        "The query execution time among RDDs, DataFrames, and SparkSQL can vary based on several factors like level of optimization, query complexity, and underlying execution mechanisms. In general dataFrames and sparkSQL tend to be more optimized and efficient compared to RDDs due to Catalyst's query optimization and Tungsten's memory management. This is due to\n",
        "\n",
        "\n",
        "*   Optimization: dataFrames and sparkSQL leverage query optimization techniques to reorganize and optimize execution plans which results in better performance for complex operations.\n",
        "*   Catalyst Query Optimizer: Catalyst's optimization rules can lead to better query plans which removes unnecessary data and reduces the amont of data shuffled between partitions.\n",
        "*   Tungsten Memory Management: Tungsten optimizes memory usage and serialization that reduces CPU and memory overhead which in turn leads to faster processing.\n",
        "*   Code Optimization: DataFrames and SparkSQL generate optimized bytecode that can be more efficient than manually written RDD transformations.\n",
        "\n",
        "In this case spark sql performs better than dataframe, this is may be due to the fact that the sql queries are written more efficiently than the dataframe one's as we need to assign join and etc to new variables which takes more time. Dataframes are usally faster than spark sql codes.\n",
        "\n",
        "\n",
        "\n"
      ]
    },
    {
      "cell_type": "markdown",
      "metadata": {
        "id": "Ii4kdutnN4tI"
      },
      "source": [
        "#### Summary\n",
        "\n",
        "The time might differ when running on different machines. Overall, the DataFrame and SQL queries run faster as compared with RDD.\n"
      ]
    },
    {
      "cell_type": "markdown",
      "metadata": {
        "id": "BY0pP457N4tI"
      },
      "source": [
        "### Some ideas on the comparison\n",
        "\n",
        "Armbrust, M., Huai, Y., Liang, C., Xin, R., & Zaharia, M. (2015). Deep Dive into Spark SQL’s Catalyst Optimizer. Retrieved September 30, 2017, from https://databricks.com/blog/2015/04/13/deep-dive-into-spark-sqls-catalyst-optimizer.html\n",
        "\n",
        "Damji, J. (2016). A Tale of Three Apache Spark APIs: RDDs, DataFrames, and Datasets. Retrieved September 28, 2017, from https://databricks.com/blog/2016/07/14/a-tale-of-three-apache-spark-apis-rdds-dataframes-and-datasets.html\n",
        "\n",
        "Data Flair (2017a). Apache Spark RDD vs DataFrame vs DataSet. Retrieved September 28, 2017, from http://data-flair.training/blogs/apache-spark-rdd-vs-dataframe-vs-dataset\n",
        "\n",
        "Prakash, C. (2016). Apache Spark: RDD vs Dataframe vs Dataset. Retrieved September 28, 2017, from http://why-not-learn-something.blogspot.com.au/2016/07/apache-spark-rdd-vs-dataframe-vs-dataset.html\n",
        "\n",
        "Xin, R., & Rosen, J. (2015). Project Tungsten: Bringing Apache Spark Closer to Bare Metal. Retrieved September 30, 2017, from https://databricks.com/blog/2015/04/28/project-tungsten-bringing-spark-closer-to-bare-metal.html"
      ]
    }
  ],
  "metadata": {
    "kernelspec": {
      "display_name": "Python 3",
      "language": "python",
      "name": "python3"
    },
    "language_info": {
      "codemirror_mode": {
        "name": "ipython",
        "version": 3
      },
      "file_extension": ".py",
      "mimetype": "text/x-python",
      "name": "python",
      "nbconvert_exporter": "python",
      "pygments_lexer": "ipython3",
      "version": "3.8.5"
    },
    "colab": {
      "provenance": []
    }
  },
  "nbformat": 4,
  "nbformat_minor": 0
}